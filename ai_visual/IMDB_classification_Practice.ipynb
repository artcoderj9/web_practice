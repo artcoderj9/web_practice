{
 "cells": [
  {
   "cell_type": "code",
   "execution_count": 1,
   "metadata": {
    "colab": {
     "base_uri": "https://localhost:8080/",
     "height": 53
    },
    "colab_type": "code",
    "id": "kDW8jZzuOdCR",
    "outputId": "aa565f11-5969-47bc-af1f-ac9de3a9ea4c"
   },
   "outputs": [
    {
     "name": "stderr",
     "output_type": "stream",
     "text": [
      "Using TensorFlow backend.\n"
     ]
    },
    {
     "data": {
      "text/plain": [
       "'2.2.5'"
      ]
     },
     "execution_count": 1,
     "metadata": {},
     "output_type": "execute_result"
    }
   ],
   "source": [
    "import keras\n",
    "import numpy as np\n",
    "keras.__version__"
   ]
  },
  {
   "cell_type": "code",
   "execution_count": null,
   "metadata": {},
   "outputs": [],
   "source": [
    "# !pip install numpy == 1.16.1"
   ]
  },
  {
   "cell_type": "code",
   "execution_count": 2,
   "metadata": {
    "colab": {},
    "colab_type": "code",
    "id": "TWYvsGTfOdtB"
   },
   "outputs": [
    {
     "name": "stdout",
     "output_type": "stream",
     "text": [
      "Downloading data from https://s3.amazonaws.com/text-datasets/imdb.npz\n",
      "17465344/17464789 [==============================] - 4s 0us/step\n"
     ]
    }
   ],
   "source": [
    "from keras.datasets import imdb\n",
    "\n",
    "(train_data, train_labels), (test_data, test_labels) = imdb.load_data(num_words=10000)"
   ]
  },
  {
   "cell_type": "code",
   "execution_count": 3,
   "metadata": {},
   "outputs": [
    {
     "name": "stdout",
     "output_type": "stream",
     "text": [
      "[1, 14, 22, 16, 43, 530, 973, 1622, 1385, 65, 458, 4468, 66, 3941, 4, 173, 36, 256, 5, 25, 100, 43, 838, 112, 50, 670, 2, 9, 35, 480, 284, 5, 150, 4, 172, 112, 167, 2, 336, 385, 39, 4, 172, 4536, 1111, 17, 546, 38, 13, 447, 4, 192, 50, 16, 6, 147, 2025, 19, 14, 22, 4, 1920, 4613, 469, 4, 22, 71, 87, 12, 16, 43, 530, 38, 76, 15, 13, 1247, 4, 22, 17, 515, 17, 12, 16, 626, 18, 2, 5, 62, 386, 12, 8, 316, 8, 106, 5, 4, 2223, 5244, 16, 480, 66, 3785, 33, 4, 130, 12, 16, 38, 619, 5, 25, 124, 51, 36, 135, 48, 25, 1415, 33, 6, 22, 12, 215, 28, 77, 52, 5, 14, 407, 16, 82, 2, 8, 4, 107, 117, 5952, 15, 256, 4, 2, 7, 3766, 5, 723, 36, 71, 43, 530, 476, 26, 400, 317, 46, 7, 4, 2, 1029, 13, 104, 88, 4, 381, 15, 297, 98, 32, 2071, 56, 26, 141, 6, 194, 7486, 18, 4, 226, 22, 21, 134, 476, 26, 480, 5, 144, 30, 5535, 18, 51, 36, 28, 224, 92, 25, 104, 4, 226, 65, 16, 38, 1334, 88, 12, 16, 283, 5, 16, 4472, 113, 103, 32, 15, 16, 5345, 19, 178, 32]\n"
     ]
    }
   ],
   "source": [
    "print(train_data[0])"
   ]
  },
  {
   "cell_type": "code",
   "execution_count": 4,
   "metadata": {},
   "outputs": [
    {
     "name": "stdout",
     "output_type": "stream",
     "text": [
      "Help on function load_data in module keras.datasets.imdb:\n",
      "\n",
      "load_data(path='imdb.npz', num_words=None, skip_top=0, maxlen=None, seed=113, start_char=1, oov_char=2, index_from=3, **kwargs)\n",
      "    Loads the IMDB dataset.\n",
      "    \n",
      "    # Arguments\n",
      "        path: where to cache the data (relative to `~/.keras/dataset`).\n",
      "        num_words: max number of words to include. Words are ranked\n",
      "            by how often they occur (in the training set) and only\n",
      "            the most frequent words are kept\n",
      "        skip_top: skip the top N most frequently occurring words\n",
      "            (which may not be informative).\n",
      "        maxlen: sequences longer than this will be filtered out.\n",
      "        seed: random seed for sample shuffling.\n",
      "        start_char: The start of a sequence will be marked with this character.\n",
      "            Set to 1 because 0 is usually the padding character.\n",
      "        oov_char: words that were cut out because of the `num_words`\n",
      "            or `skip_top` limit will be replaced with this character.\n",
      "        index_from: index actual words with this index and higher.\n",
      "    \n",
      "    # Returns\n",
      "        Tuple of Numpy arrays: `(x_train, y_train), (x_test, y_test)`.\n",
      "    \n",
      "    # Raises\n",
      "        ValueError: in case `maxlen` is so low\n",
      "            that no input sequence could be kept.\n",
      "    \n",
      "    Note that the 'out of vocabulary' character is only used for\n",
      "    words that were present in the training set but are not included\n",
      "    because they're not making the `num_words` cut here.\n",
      "    Words that were not seen in the training set but are in the test set\n",
      "    have simply been skipped.\n",
      "\n"
     ]
    }
   ],
   "source": [
    "help(imdb.load_data)"
   ]
  },
  {
   "cell_type": "code",
   "execution_count": 6,
   "metadata": {
    "colab": {},
    "colab_type": "code",
    "id": "8dFnDkLQIb_R"
   },
   "outputs": [],
   "source": [
    "def vectorize_sequences(sequences, dimension=10000):\n",
    "    # 크기가 (len(sequences), dimension))이고 모든 원소가 0인 행렬을 만듭니다\n",
    "    results = np.zeros((len(sequences), dimension))\n",
    "    print(results.shape)\n",
    "    for i, sequence in enumerate(sequences):\n",
    "        results[i, sequence] = 1.  # results[i]에서 특정 인덱스의 위치를 1로 만듭니다\n",
    "    return results"
   ]
  },
  {
   "cell_type": "code",
   "execution_count": 7,
   "metadata": {
    "colab": {
     "base_uri": "https://localhost:8080/",
     "height": 53
    },
    "colab_type": "code",
    "id": "L_hzLbHk9ZDM",
    "outputId": "03575c96-968f-4410-eec1-730165cda0d1"
   },
   "outputs": [
    {
     "name": "stdout",
     "output_type": "stream",
     "text": [
      "(25000, 10000)\n",
      "(25000, 10000)\n"
     ]
    }
   ],
   "source": [
    "x_train = vectorize_sequences(train_data) # 훈련 데이터를 벡터로 변환합니다\n",
    "x_test = vectorize_sequences(test_data) # 테스트 데이터를 벡터로 변환합니다"
   ]
  },
  {
   "cell_type": "code",
   "execution_count": 8,
   "metadata": {
    "colab": {},
    "colab_type": "code",
    "id": "nbN6jpTY9mbT"
   },
   "outputs": [],
   "source": [
    "# 레이블을 벡터로 바꿉니다\n",
    "y_train = np.asarray(train_labels).astype('float32')\n",
    "y_test = np.asarray(test_labels).astype('float32')"
   ]
  },
  {
   "cell_type": "code",
   "execution_count": 11,
   "metadata": {},
   "outputs": [
    {
     "name": "stdout",
     "output_type": "stream",
     "text": [
      "[1. 0. 0. 1. 0. 0. 1. 0. 1. 0.]\n"
     ]
    }
   ],
   "source": [
    "print(y_train[:10])"
   ]
  },
  {
   "cell_type": "code",
   "execution_count": 12,
   "metadata": {
    "colab": {},
    "colab_type": "code",
    "id": "gdYuaiGw9ylT"
   },
   "outputs": [],
   "source": [
    "# Data split for validation data\n",
    "split_idx = 10000\n",
    "\n",
    "x_val = x_train[:split_idx]\n",
    "partial_x_train = x_train[split_idx:]\n",
    "\n",
    "y_val = y_train[:split_idx]\n",
    "partial_y_train = y_train[split_idx:]"
   ]
  },
  {
   "cell_type": "code",
   "execution_count": 13,
   "metadata": {
    "colab": {
     "base_uri": "https://localhost:8080/",
     "height": 71
    },
    "colab_type": "code",
    "id": "KiWTioFD9Y5E",
    "outputId": "6e698b54-77bb-4ea3-fdb8-2ad4b407883e"
   },
   "outputs": [
    {
     "name": "stdout",
     "output_type": "stream",
     "text": [
      "Downloading data from https://s3.amazonaws.com/text-datasets/imdb_word_index.json\n",
      "1646592/1641221 [==============================] - 1s 1us/step\n"
     ]
    }
   ],
   "source": [
    "word_index = imdb.get_word_index()\n",
    "reverse_word_index = dict([(value, key) for (key, value) in word_index.items()])\n",
    "\n",
    "# decoded text for data0\n",
    "decoded_review0 = ' '.join([reverse_word_index.get(i - 3, '?') for i in train_data[0]])"
   ]
  },
  {
   "cell_type": "code",
   "execution_count": 14,
   "metadata": {
    "colab": {
     "base_uri": "https://localhost:8080/",
     "height": 55
    },
    "colab_type": "code",
    "id": "HXdH_HhdI3Zr",
    "outputId": "c2a46731-4232-475d-d8fb-126a6afe1400"
   },
   "outputs": [
    {
     "data": {
      "text/plain": [
       "\"? this film was just brilliant casting location scenery story direction everyone's really suited the part they played and you could just imagine being there robert ? is an amazing actor and now the same being director ? father came from the same scottish island as myself so i loved the fact there was a real connection with this film the witty remarks throughout the film were great it was just brilliant so much that i bought the film as soon as it was released for ? and would recommend it to everyone to watch and the fly fishing was amazing really cried at the end it was so sad and you know what they say if you cry at a film it must have been good and this definitely was also ? to the two little boy's that played the ? of norman and paul they were just brilliant children are often left out of the ? list i think because the stars that play them all grown up are such a big profile for the whole film but these children are amazing and should be praised for what they have done don't you think the whole story was so lovely because it was true and was someone's life after all that was shared with us all\""
      ]
     },
     "execution_count": 14,
     "metadata": {},
     "output_type": "execute_result"
    }
   ],
   "source": [
    "decoded_review0"
   ]
  },
  {
   "cell_type": "code",
   "execution_count": 15,
   "metadata": {
    "colab": {
     "base_uri": "https://localhost:8080/",
     "height": 162
    },
    "colab_type": "code",
    "id": "md5alZT2JKws",
    "outputId": "174db998-24e9-4574-e5af-a88295db1405"
   },
   "outputs": [
    {
     "name": "stdout",
     "output_type": "stream",
     "text": [
      "WARNING:tensorflow:From C:\\ProgramData\\Anaconda3\\envs\\cv\\lib\\site-packages\\tensorflow\\python\\framework\\op_def_library.py:263: colocate_with (from tensorflow.python.framework.ops) is deprecated and will be removed in a future version.\n",
      "Instructions for updating:\n",
      "Colocations handled automatically by placer.\n"
     ]
    }
   ],
   "source": [
    "# Build Model\n",
    "\n",
    "from keras import models\n",
    "from keras import layers\n",
    "\n",
    "model = models.Sequential()\n",
    "model.add(layers.Dense(16, activation='relu', input_shape=(10000,)))\n",
    "model.add(layers.Dense(16, activation='relu'))\n",
    "model.add(layers.Dense(1, activation='sigmoid'))\n"
   ]
  },
  {
   "cell_type": "code",
   "execution_count": 16,
   "metadata": {
    "colab": {
     "base_uri": "https://localhost:8080/",
     "height": 162
    },
    "colab_type": "code",
    "id": "maggx61dJQLy",
    "outputId": "6d2421c9-39a4-412a-b886-1f40a4db25a7"
   },
   "outputs": [],
   "source": [
    "# Model Compile\n",
    "model.compile(optimizer='rmsprop',\n",
    "              loss='binary_crossentropy',\n",
    "              metrics=['accuracy'])\n"
   ]
  },
  {
   "cell_type": "code",
   "execution_count": 17,
   "metadata": {
    "colab": {
     "base_uri": "https://localhost:8080/",
     "height": 807
    },
    "colab_type": "code",
    "id": "ns8Vg8VVJnji",
    "outputId": "34490410-e4d4-45dc-d304-2ea3aae31e73"
   },
   "outputs": [
    {
     "name": "stdout",
     "output_type": "stream",
     "text": [
      "WARNING:tensorflow:From C:\\ProgramData\\Anaconda3\\envs\\cv\\lib\\site-packages\\tensorflow\\python\\ops\\math_ops.py:3066: to_int32 (from tensorflow.python.ops.math_ops) is deprecated and will be removed in a future version.\n",
      "Instructions for updating:\n",
      "Use tf.cast instead.\n",
      "Train on 15000 samples, validate on 10000 samples\n",
      "Epoch 1/20\n",
      "15000/15000 [==============================] - 5s 366us/step - loss: 0.5422 - acc: 0.7965 - val_loss: 0.4208 - val_acc: 0.8678\n",
      "Epoch 2/20\n",
      "15000/15000 [==============================] - 5s 353us/step - loss: 0.3373 - acc: 0.8977 - val_loss: 0.3206 - val_acc: 0.8835\n",
      "Epoch 3/20\n",
      "15000/15000 [==============================] - 5s 336us/step - loss: 0.2463 - acc: 0.9213 - val_loss: 0.2908 - val_acc: 0.8868\n",
      "Epoch 4/20\n",
      "15000/15000 [==============================] - 4s 234us/step - loss: 0.1945 - acc: 0.9369 - val_loss: 0.2746 - val_acc: 0.8910\n",
      "Epoch 5/20\n",
      "15000/15000 [==============================] - 3s 197us/step - loss: 0.1576 - acc: 0.9506 - val_loss: 0.2809 - val_acc: 0.8876\n",
      "Epoch 6/20\n",
      "15000/15000 [==============================] - 3s 197us/step - loss: 0.1298 - acc: 0.9600 - val_loss: 0.3039 - val_acc: 0.8788\n",
      "Epoch 7/20\n",
      "15000/15000 [==============================] - 3s 198us/step - loss: 0.1067 - acc: 0.9688 - val_loss: 0.3101 - val_acc: 0.8845\n",
      "Epoch 8/20\n",
      "15000/15000 [==============================] - 3s 205us/step - loss: 0.0865 - acc: 0.9764 - val_loss: 0.3530 - val_acc: 0.8715\n",
      "Epoch 9/20\n",
      "15000/15000 [==============================] - 3s 203us/step - loss: 0.0735 - acc: 0.9805 - val_loss: 0.3500 - val_acc: 0.8777\n",
      "Epoch 10/20\n",
      "15000/15000 [==============================] - 3s 218us/step - loss: 0.0604 - acc: 0.9840 - val_loss: 0.3571 - val_acc: 0.8799\n",
      "Epoch 11/20\n",
      "15000/15000 [==============================] - 3s 204us/step - loss: 0.0476 - acc: 0.9883 - val_loss: 0.3909 - val_acc: 0.8751\n",
      "Epoch 12/20\n",
      "15000/15000 [==============================] - 3s 223us/step - loss: 0.0383 - acc: 0.9920 - val_loss: 0.4152 - val_acc: 0.8743\n",
      "Epoch 13/20\n",
      "15000/15000 [==============================] - 3s 206us/step - loss: 0.0300 - acc: 0.9943 - val_loss: 0.4470 - val_acc: 0.8726\n",
      "Epoch 14/20\n",
      "15000/15000 [==============================] - 3s 204us/step - loss: 0.0235 - acc: 0.9959 - val_loss: 0.4736 - val_acc: 0.8723\n",
      "Epoch 15/20\n",
      "15000/15000 [==============================] - 3s 218us/step - loss: 0.0180 - acc: 0.9973 - val_loss: 0.5015 - val_acc: 0.8703\n",
      "Epoch 16/20\n",
      "15000/15000 [==============================] - 3s 215us/step - loss: 0.0137 - acc: 0.9985 - val_loss: 0.5324 - val_acc: 0.8699\n",
      "Epoch 17/20\n",
      "15000/15000 [==============================] - 4s 287us/step - loss: 0.0107 - acc: 0.9988 - val_loss: 0.5711 - val_acc: 0.8686\n",
      "Epoch 18/20\n",
      "15000/15000 [==============================] - 4s 248us/step - loss: 0.0084 - acc: 0.9994 - val_loss: 0.6051 - val_acc: 0.8691\n",
      "Epoch 19/20\n",
      "15000/15000 [==============================] - 4s 272us/step - loss: 0.0070 - acc: 0.9992 - val_loss: 0.6329 - val_acc: 0.8690\n",
      "Epoch 20/20\n",
      "15000/15000 [==============================] - 4s 283us/step - loss: 0.0035 - acc: 0.9999 - val_loss: 0.6638 - val_acc: 0.8672\n"
     ]
    }
   ],
   "source": [
    "# Model Training and save training history\n",
    "history = model.fit(partial_x_train,\n",
    "                    partial_y_train,\n",
    "                    epochs=20,\n",
    "                    batch_size=512,\n",
    "                    validation_data=(x_val,y_val))\n",
    "                    \n"
   ]
  },
  {
   "cell_type": "code",
   "execution_count": 18,
   "metadata": {
    "colab": {
     "base_uri": "https://localhost:8080/",
     "height": 35
    },
    "colab_type": "code",
    "id": "1ILOMEWAJpE6",
    "outputId": "4c83b8df-96ba-41ac-ae32-22080631be33"
   },
   "outputs": [
    {
     "data": {
      "text/plain": [
       "dict_keys(['val_loss', 'val_acc', 'loss', 'acc'])"
      ]
     },
     "execution_count": 18,
     "metadata": {},
     "output_type": "execute_result"
    }
   ],
   "source": [
    "history_dict = history.history\n",
    "history_dict.keys()"
   ]
  },
  {
   "cell_type": "code",
   "execution_count": 20,
   "metadata": {
    "colab": {
     "base_uri": "https://localhost:8080/",
     "height": 295
    },
    "colab_type": "code",
    "id": "8z9wfe3nJ31b",
    "outputId": "3054c27a-9118-433f-8300-31f8ac098c4e"
   },
   "outputs": [
    {
     "data": {
      "image/png": "[encoded data removed]",
      "text/plain": [
       "<Figure size 432x288 with 1 Axes>"
      ]
     },
     "metadata": {
      "needs_background": "light"
     },
     "output_type": "display_data"
    }
   ],
   "source": [
    "%matplotlib inline\n",
    "\n",
    "import matplotlib.pyplot as plt\n",
    "\n",
    "acc = history.history['acc']\n",
    "val_acc = history.history['val_acc']\n",
    "loss = history.history['loss']\n",
    "val_loss = history.history['val_loss']\n",
    "\n",
    "epochs = range(1, len(acc) + 1)\n",
    "\n",
    "# ‘bo’는 파란색 점을 의미합니다\n",
    "plt.plot(epochs, loss, 'bo', label='Training loss')\n",
    "# ‘b’는 파란색 실선을 의미합니다\n",
    "plt.plot(epochs, val_loss, 'b', label='Validation loss')\n",
    "plt.title('Training and validation loss')\n",
    "plt.xlabel('Epochs')\n",
    "plt.ylabel('Loss')\n",
    "plt.legend()\n",
    "\n",
    "plt.show()"
   ]
  },
  {
   "cell_type": "code",
   "execution_count": 21,
   "metadata": {
    "colab": {
     "base_uri": "https://localhost:8080/",
     "height": 295
    },
    "colab_type": "code",
    "id": "A6I6UvR5J6rC",
    "outputId": "c162060e-9035-477e-b9cc-b019c82666ae"
   },
   "outputs": [
    {
     "data": {
      "image/png": "[encoded data removed]",
      "text/plain": [
       "<Figure size 432x288 with 1 Axes>"
      ]
     },
     "metadata": {
      "needs_background": "light"
     },
     "output_type": "display_data"
    }
   ],
   "source": [
    "plt.clf()   # 그래프를 초기화합니다\n",
    "acc = history_dict['acc']\n",
    "val_acc = history_dict['val_acc']\n",
    "\n",
    "plt.plot(epochs, acc, 'bo', label='Training acc')\n",
    "plt.plot(epochs, val_acc, 'b', label='Validation acc')\n",
    "plt.title('Training and validation accuracy')\n",
    "plt.xlabel('Epochs')\n",
    "plt.ylabel('Accuracy')\n",
    "plt.legend()\n",
    "\n",
    "plt.show()"
   ]
  },
  {
   "cell_type": "code",
   "execution_count": 22,
   "metadata": {
    "colab": {
     "base_uri": "https://localhost:8080/",
     "height": 178
    },
    "colab_type": "code",
    "id": "DgD06sevKKbK",
    "outputId": "bcff528a-5ac4-4faa-fc50-54f274acfb2e"
   },
   "outputs": [
    {
     "name": "stdout",
     "output_type": "stream",
     "text": [
      "Epoch 1/4\n",
      "25000/25000 [==============================] - 4s 144us/step - loss: 0.4580 - acc: 0.8289\n",
      "Epoch 2/4\n",
      "25000/25000 [==============================] - 3s 132us/step - loss: 0.2644 - acc: 0.9108\n",
      "Epoch 3/4\n",
      "25000/25000 [==============================] - 3s 134us/step - loss: 0.2005 - acc: 0.9298\n",
      "Epoch 4/4\n",
      "25000/25000 [==============================] - 3s 136us/step - loss: 0.1698 - acc: 0.9406\n"
     ]
    },
    {
     "data": {
      "text/plain": [
       "<keras.callbacks.History at 0x225854e0390>"
      ]
     },
     "execution_count": 22,
     "metadata": {},
     "output_type": "execute_result"
    }
   ],
   "source": [
    "model = models.Sequential()\n",
    "model.add(layers.Dense(16, activation='relu', input_shape=(10000,)))\n",
    "model.add(layers.Dense(16, activation='relu'))\n",
    "model.add(layers.Dense(1, activation='sigmoid'))\n",
    "\n",
    "model.compile(optimizer='rmsprop',\n",
    "              loss='binary_crossentropy',\n",
    "              metrics=['accuracy'])\n",
    "\n",
    "model.fit(x_train, y_train, epochs=4, batch_size=512)"
   ]
  },
  {
   "cell_type": "code",
   "execution_count": 23,
   "metadata": {
    "colab": {},
    "colab_type": "code",
    "id": "ClvXN2qwLJXJ"
   },
   "outputs": [],
   "source": [
    "result = model.predict(x_test)"
   ]
  },
  {
   "cell_type": "code",
   "execution_count": 24,
   "metadata": {
    "colab": {
     "base_uri": "https://localhost:8080/",
     "height": 142
    },
    "colab_type": "code",
    "id": "svnrqfTsAQdW",
    "outputId": "63c40f55-42e0-4d3f-fe2e-01bb8a84f673"
   },
   "outputs": [
    {
     "data": {
      "text/plain": [
       "array([[0.24158481],\n",
       "       [0.99987215],\n",
       "       [0.90894395],\n",
       "       ...,\n",
       "       [0.13347298],\n",
       "       [0.10367325],\n",
       "       [0.72819495]], dtype=float32)"
      ]
     },
     "execution_count": 24,
     "metadata": {},
     "output_type": "execute_result"
    }
   ],
   "source": [
    "result"
   ]
  },
  {
   "cell_type": "code",
   "execution_count": 25,
   "metadata": {
    "colab": {},
    "colab_type": "code",
    "id": "i1pvSicWLKMo"
   },
   "outputs": [],
   "source": [
    "#  thresholding\n",
    "\n",
    "for i in range(len(result)):\n",
    "  if result[i] > 0.5:\n",
    "    result[i] = 1\n",
    "  else:\n",
    "    result[i] = 0\n",
    "  \n"
   ]
  },
  {
   "cell_type": "code",
   "execution_count": 26,
   "metadata": {
    "colab": {
     "base_uri": "https://localhost:8080/",
     "height": 142
    },
    "colab_type": "code",
    "id": "wKguiRsM_t1n",
    "outputId": "9b68188b-7699-452c-d94b-e26a26ade998"
   },
   "outputs": [
    {
     "data": {
      "text/plain": [
       "array([[0.],\n",
       "       [1.],\n",
       "       [1.],\n",
       "       ...,\n",
       "       [0.],\n",
       "       [0.],\n",
       "       [1.]], dtype=float32)"
      ]
     },
     "execution_count": 26,
     "metadata": {},
     "output_type": "execute_result"
    }
   ],
   "source": [
    "result"
   ]
  },
  {
   "cell_type": "code",
   "execution_count": null,
   "metadata": {
    "colab": {},
    "colab_type": "code",
    "id": "53OhHbL0AZF4"
   },
   "outputs": [],
   "source": []
  }
 ],
 "metadata": {
  "colab": {
   "collapsed_sections": [],
   "name": "IMDB_classification_실습.ipynb",
   "provenance": [],
   "version": "0.3.2"
  },
  "kernelspec": {
   "display_name": "Python 3",
   "language": "python",
   "name": "python3"
  },
  "language_info": {
   "codemirror_mode": {
    "name": "ipython",
    "version": 3
   },
   "file_extension": ".py",
   "mimetype": "text/x-python",
   "name": "python",
   "nbconvert_exporter": "python",
   "pygments_lexer": "ipython3",
   "version": "3.7.3"
  }
 },
 "nbformat": 4,
 "nbformat_minor": 4
}
