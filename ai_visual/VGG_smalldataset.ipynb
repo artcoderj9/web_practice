{
 "cells": [
  {
   "cell_type": "markdown",
   "metadata": {},
   "source": [
    "# VGG for small dataset"
   ]
  },
  {
   "cell_type": "code",
   "execution_count": 8,
   "metadata": {},
   "outputs": [],
   "source": [
    "from keras import layers\n",
    "from keras import models\n",
    "from keras.applications import vgg16\n",
    "\n",
    "VGGNet = vgg16.VGG16()"
   ]
  },
  {
   "cell_type": "code",
   "execution_count": 10,
   "metadata": {},
   "outputs": [
    {
     "name": "stdout",
     "output_type": "stream",
     "text": [
      "Tensor(\"block5_pool_3/MaxPool:0\", shape=(?, 7, 7, 512), dtype=float32)\n"
     ]
    }
   ],
   "source": [
    "# access vgg layer\n",
    "\n",
    "for layer in VGGNet.layers:\n",
    "    layer.trainable = False\n",
    "\n",
    "vgg_maxpool5 = VGGNet.get_layer('block5_pool').output\n",
    "\n",
    "print(vgg_maxpool5)"
   ]
  },
  {
   "cell_type": "code",
   "execution_count": null,
   "metadata": {},
   "outputs": [],
   "source": []
  }
 ],
 "metadata": {
  "kernelspec": {
   "display_name": "Python 3",
   "language": "python",
   "name": "python3"
  },
  "language_info": {
   "codemirror_mode": {
    "name": "ipython",
    "version": 3
   },
   "file_extension": ".py",
   "mimetype": "text/x-python",
   "name": "python",
   "nbconvert_exporter": "python",
   "pygments_lexer": "ipython3",
   "version": "3.7.3"
  }
 },
 "nbformat": 4,
 "nbformat_minor": 4
}
