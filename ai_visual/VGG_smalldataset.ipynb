{
 "cells": [
  {
   "cell_type": "markdown",
   "metadata": {
    "toc-hr-collapsed": true
   },
   "source": [
    "# Augment Images"
   ]
  },
  {
   "cell_type": "markdown",
   "metadata": {},
   "source": [
    "## Import Packages"
   ]
  },
  {
   "cell_type": "code",
   "execution_count": 1,
   "metadata": {},
   "outputs": [],
   "source": [
    "%matplotlib inline\n",
    "\n",
    "import os\n",
    "import random\n",
    "import numpy as np\n",
    "from scipy import ndimage\n",
    "import cv2\n",
    "import matplotlib.pyplot as plt\n"
   ]
  },
  {
   "cell_type": "markdown",
   "metadata": {},
   "source": [
    "## Augment Images"
   ]
  },
  {
   "cell_type": "code",
   "execution_count": 49,
   "metadata": {},
   "outputs": [
    {
     "name": "stdout",
     "output_type": "stream",
     "text": [
      "Write : ./augs_image/train/dogs/dog010.jpg\n",
      "Write : ./augs_image/train/dogs/dog011.jpg\n",
      "Write : ./augs_image/train/dogs/dog012.jpg\n",
      "Write : ./augs_image/train/dogs/dog013.jpg\n",
      "Write : ./augs_image/train/dogs/dog014.jpg\n",
      "Write : ./augs_image/train/dogs/dog015.jpg\n",
      "Write : ./augs_image/train/dogs/dog016.jpg\n",
      "Write : ./augs_image/train/dogs/dog017.jpg\n",
      "Write : ./augs_image/train/dogs/dog018.jpg\n",
      "Write : ./augs_image/train/dogs/dog019.jpg\n",
      "Done~~~~\n",
      "Write : ./augs_image/train/dogs/dog020.jpg\n",
      "Write : ./augs_image/train/dogs/dog021.jpg\n",
      "Write : ./augs_image/train/dogs/dog022.jpg\n",
      "Write : ./augs_image/train/dogs/dog023.jpg\n",
      "Write : ./augs_image/train/dogs/dog024.jpg\n",
      "Write : ./augs_image/train/dogs/dog025.jpg\n",
      "Write : ./augs_image/train/dogs/dog026.jpg\n",
      "Write : ./augs_image/train/dogs/dog027.jpg\n",
      "Write : ./augs_image/train/dogs/dog028.jpg\n",
      "Write : ./augs_image/train/dogs/dog029.jpg\n",
      "Done~~~~\n",
      "Write : ./augs_image/train/dogs/dog030.jpg\n",
      "Write : ./augs_image/train/dogs/dog031.jpg\n",
      "Write : ./augs_image/train/dogs/dog032.jpg\n",
      "Write : ./augs_image/train/dogs/dog033.jpg\n",
      "Write : ./augs_image/train/dogs/dog034.jpg\n",
      "Write : ./augs_image/train/dogs/dog035.jpg\n",
      "Write : ./augs_image/train/dogs/dog036.jpg\n",
      "Write : ./augs_image/train/dogs/dog037.jpg\n",
      "Write : ./augs_image/train/dogs/dog038.jpg\n",
      "Write : ./augs_image/train/dogs/dog039.jpg\n",
      "Done~~~~\n",
      "Write : ./augs_image/train/cats/cat010.jpg\n",
      "Write : ./augs_image/train/cats/cat011.jpg\n",
      "Write : ./augs_image/train/cats/cat012.jpg\n",
      "Write : ./augs_image/train/cats/cat013.jpg\n",
      "Write : ./augs_image/train/cats/cat014.jpg\n",
      "Write : ./augs_image/train/cats/cat015.jpg\n",
      "Write : ./augs_image/train/cats/cat016.jpg\n",
      "Write : ./augs_image/train/cats/cat017.jpg\n",
      "Write : ./augs_image/train/cats/cat018.jpg\n",
      "Write : ./augs_image/train/cats/cat019.jpg\n",
      "Done~~~~\n",
      "Write : ./augs_image/train/cats/cat020.jpg\n",
      "Write : ./augs_image/train/cats/cat021.jpg\n",
      "Write : ./augs_image/train/cats/cat022.jpg\n",
      "Write : ./augs_image/train/cats/cat023.jpg\n",
      "Write : ./augs_image/train/cats/cat024.jpg\n",
      "Write : ./augs_image/train/cats/cat025.jpg\n",
      "Write : ./augs_image/train/cats/cat026.jpg\n",
      "Write : ./augs_image/train/cats/cat027.jpg\n",
      "Write : ./augs_image/train/cats/cat028.jpg\n",
      "Write : ./augs_image/train/cats/cat029.jpg\n",
      "Done~~~~\n",
      "Write : ./augs_image/train/cats/cat030.jpg\n",
      "Write : ./augs_image/train/cats/cat031.jpg\n",
      "Write : ./augs_image/train/cats/cat032.jpg\n",
      "Write : ./augs_image/train/cats/cat033.jpg\n",
      "Write : ./augs_image/train/cats/cat034.jpg\n",
      "Write : ./augs_image/train/cats/cat035.jpg\n",
      "Write : ./augs_image/train/cats/cat036.jpg\n",
      "Write : ./augs_image/train/cats/cat037.jpg\n",
      "Write : ./augs_image/train/cats/cat038.jpg\n",
      "Write : ./augs_image/train/cats/cat039.jpg\n",
      "Done~~~~\n"
     ]
    }
   ],
   "source": [
    "def aug_image(folder, aug_type, num_sel=10, pre_fix=\"\", post_fix=\".jpg\" ): # aug_type: 0, 1, 2\n",
    "    file_list = os.listdir(folder)\n",
    "    num_list = len(file_list)\n",
    "    selected_idx = random.sample(range(len(file_list)), num_sel)\n",
    "    num_sel = len(selected_idx)\n",
    "    \n",
    "    count = 0\n",
    "    for i in selected_idx:\n",
    "        read_file = f\"{folder}/{file_list[i]}\"\n",
    "        img = cv2.imread(read_file)\n",
    "        # print(\"Read :\", read_file)\n",
    "        if img is None:\n",
    "            print(\"Fail to load image!\")\n",
    "            continue\n",
    "\n",
    "        file_name = f\"{folder}/{pre_fix}{num_list+count:03d}{post_fix}\"\n",
    "        count += 1\n",
    "        aug_img = img\n",
    "        if aug_type == 0: # flip\n",
    "            aug_img = np.flipud(img)\n",
    "        elif aug_type == 1: # rotate\n",
    "            aug_img = ndimage.rotate(img, random.randrange(-60,60))\n",
    "        elif aug_type == 2: # blurr\n",
    "            aug_img = ndimage.gaussian_filter(img, sigma=3)\n",
    "            \n",
    "        cv2.imwrite(file_name, aug_img)\n",
    "        print(\"Write :\", file_name)\n",
    "        \n",
    "    print(\"Done~~~~\")\n",
    "        \n",
    "        #plt.figure()\n",
    "        #plt.imshow(cv2.cvtColor(flip_ud, cv2.COLOR_BGR2RGB))\n",
    "        \n",
    "dog_folder = \"./augs_image/train/dogs\"\n",
    "cat_folder = \"./augs_image/train/cats\"\n",
    "\n",
    "aug_image(dog_folder, 0, 10, pre_fix=\"dog\") # flip\n",
    "aug_image(dog_folder, 1, 10, pre_fix=\"dog\") # rotate\n",
    "aug_image(dog_folder, 2, 10, pre_fix=\"dog\") # blurr\n",
    "\n",
    "aug_image(cat_folder, 0, 10, pre_fix=\"cat\") # flip\n",
    "aug_image(cat_folder, 1, 10, pre_fix=\"cat\") # rotate\n",
    "aug_image(cat_folder, 2, 10, pre_fix=\"cat\") # blurr"
   ]
  },
  {
   "cell_type": "code",
   "execution_count": 50,
   "metadata": {},
   "outputs": [
    {
     "name": "stdout",
     "output_type": "stream",
     "text": [
      "Write : ./augs_image/test/dogs/dog006.jpg\n",
      "Write : ./augs_image/test/dogs/dog007.jpg\n",
      "Write : ./augs_image/test/dogs/dog008.jpg\n",
      "Write : ./augs_image/test/dogs/dog009.jpg\n",
      "Write : ./augs_image/test/dogs/dog010.jpg\n",
      "Done~~~~\n",
      "Write : ./augs_image/test/dogs/dog011.jpg\n",
      "Write : ./augs_image/test/dogs/dog012.jpg\n",
      "Write : ./augs_image/test/dogs/dog013.jpg\n",
      "Write : ./augs_image/test/dogs/dog014.jpg\n",
      "Write : ./augs_image/test/dogs/dog015.jpg\n",
      "Write : ./augs_image/test/dogs/dog016.jpg\n",
      "Write : ./augs_image/test/dogs/dog017.jpg\n",
      "Write : ./augs_image/test/dogs/dog018.jpg\n",
      "Write : ./augs_image/test/dogs/dog019.jpg\n",
      "Write : ./augs_image/test/dogs/dog020.jpg\n",
      "Done~~~~\n",
      "Write : ./augs_image/test/dogs/dog021.jpg\n",
      "Write : ./augs_image/test/dogs/dog022.jpg\n",
      "Write : ./augs_image/test/dogs/dog023.jpg\n",
      "Write : ./augs_image/test/dogs/dog024.jpg\n",
      "Write : ./augs_image/test/dogs/dog025.jpg\n",
      "Write : ./augs_image/test/dogs/dog026.jpg\n",
      "Write : ./augs_image/test/dogs/dog027.jpg\n",
      "Write : ./augs_image/test/dogs/dog028.jpg\n",
      "Write : ./augs_image/test/dogs/dog029.jpg\n",
      "Write : ./augs_image/test/dogs/dog030.jpg\n",
      "Done~~~~\n",
      "Write : ./augs_image/test/cats/cat005.jpg\n",
      "Write : ./augs_image/test/cats/cat006.jpg\n",
      "Write : ./augs_image/test/cats/cat007.jpg\n",
      "Write : ./augs_image/test/cats/cat008.jpg\n",
      "Write : ./augs_image/test/cats/cat009.jpg\n",
      "Done~~~~\n",
      "Write : ./augs_image/test/cats/cat010.jpg\n",
      "Write : ./augs_image/test/cats/cat011.jpg\n",
      "Write : ./augs_image/test/cats/cat012.jpg\n",
      "Write : ./augs_image/test/cats/cat013.jpg\n",
      "Write : ./augs_image/test/cats/cat014.jpg\n",
      "Write : ./augs_image/test/cats/cat015.jpg\n",
      "Write : ./augs_image/test/cats/cat016.jpg\n",
      "Write : ./augs_image/test/cats/cat017.jpg\n",
      "Write : ./augs_image/test/cats/cat018.jpg\n",
      "Write : ./augs_image/test/cats/cat019.jpg\n",
      "Done~~~~\n",
      "Write : ./augs_image/test/cats/cat020.jpg\n",
      "Write : ./augs_image/test/cats/cat021.jpg\n",
      "Write : ./augs_image/test/cats/cat022.jpg\n",
      "Write : ./augs_image/test/cats/cat023.jpg\n",
      "Write : ./augs_image/test/cats/cat024.jpg\n",
      "Write : ./augs_image/test/cats/cat025.jpg\n",
      "Write : ./augs_image/test/cats/cat026.jpg\n",
      "Write : ./augs_image/test/cats/cat027.jpg\n",
      "Write : ./augs_image/test/cats/cat028.jpg\n",
      "Write : ./augs_image/test/cats/cat029.jpg\n",
      "Done~~~~\n"
     ]
    }
   ],
   "source": [
    "dog_folder1 = \"./augs_image/test/dogs\"\n",
    "cat_folder1 = \"./augs_image/test/cats\"\n",
    "\n",
    "aug_image(dog_folder1, 0, 5, pre_fix=\"dog\") # flip\n",
    "aug_image(dog_folder1, 1, 10, pre_fix=\"dog\") # rotate\n",
    "aug_image(dog_folder1, 2, 10, pre_fix=\"dog\") # blurr\n",
    "\n",
    "aug_image(cat_folder1, 0, 5, pre_fix=\"cat\") # flip\n",
    "aug_image(cat_folder1, 1, 10, pre_fix=\"cat\") # rotate\n",
    "aug_image(cat_folder1, 2, 10, pre_fix=\"cat\") # blurr"
   ]
  },
  {
   "cell_type": "code",
   "execution_count": 52,
   "metadata": {},
   "outputs": [
    {
     "name": "stdout",
     "output_type": "stream",
     "text": [
      "Write : ./augs_image/validation/dogs/dog005.jpg\n",
      "Write : ./augs_image/validation/dogs/dog006.jpg\n",
      "Write : ./augs_image/validation/dogs/dog007.jpg\n",
      "Write : ./augs_image/validation/dogs/dog008.jpg\n",
      "Write : ./augs_image/validation/dogs/dog009.jpg\n",
      "Done~~~~\n",
      "Write : ./augs_image/validation/dogs/dog010.jpg\n",
      "Write : ./augs_image/validation/dogs/dog011.jpg\n",
      "Write : ./augs_image/validation/dogs/dog012.jpg\n",
      "Write : ./augs_image/validation/dogs/dog013.jpg\n",
      "Write : ./augs_image/validation/dogs/dog014.jpg\n",
      "Write : ./augs_image/validation/dogs/dog015.jpg\n",
      "Write : ./augs_image/validation/dogs/dog016.jpg\n",
      "Write : ./augs_image/validation/dogs/dog017.jpg\n",
      "Write : ./augs_image/validation/dogs/dog018.jpg\n",
      "Write : ./augs_image/validation/dogs/dog019.jpg\n",
      "Done~~~~\n",
      "Write : ./augs_image/validation/dogs/dog020.jpg\n",
      "Write : ./augs_image/validation/dogs/dog021.jpg\n",
      "Write : ./augs_image/validation/dogs/dog022.jpg\n",
      "Write : ./augs_image/validation/dogs/dog023.jpg\n",
      "Write : ./augs_image/validation/dogs/dog024.jpg\n",
      "Write : ./augs_image/validation/dogs/dog025.jpg\n",
      "Write : ./augs_image/validation/dogs/dog026.jpg\n",
      "Write : ./augs_image/validation/dogs/dog027.jpg\n",
      "Write : ./augs_image/validation/dogs/dog028.jpg\n",
      "Write : ./augs_image/validation/dogs/dog029.jpg\n",
      "Done~~~~\n",
      "Write : ./augs_image/validation/cats/cat005.jpg\n",
      "Write : ./augs_image/validation/cats/cat006.jpg\n",
      "Write : ./augs_image/validation/cats/cat007.jpg\n",
      "Write : ./augs_image/validation/cats/cat008.jpg\n",
      "Write : ./augs_image/validation/cats/cat009.jpg\n",
      "Done~~~~\n",
      "Write : ./augs_image/validation/cats/cat010.jpg\n",
      "Write : ./augs_image/validation/cats/cat011.jpg\n",
      "Write : ./augs_image/validation/cats/cat012.jpg\n",
      "Write : ./augs_image/validation/cats/cat013.jpg\n",
      "Write : ./augs_image/validation/cats/cat014.jpg\n",
      "Write : ./augs_image/validation/cats/cat015.jpg\n",
      "Write : ./augs_image/validation/cats/cat016.jpg\n",
      "Write : ./augs_image/validation/cats/cat017.jpg\n",
      "Write : ./augs_image/validation/cats/cat018.jpg\n",
      "Write : ./augs_image/validation/cats/cat019.jpg\n",
      "Done~~~~\n",
      "Write : ./augs_image/validation/cats/cat020.jpg\n",
      "Write : ./augs_image/validation/cats/cat021.jpg\n",
      "Write : ./augs_image/validation/cats/cat022.jpg\n",
      "Write : ./augs_image/validation/cats/cat023.jpg\n",
      "Write : ./augs_image/validation/cats/cat024.jpg\n",
      "Write : ./augs_image/validation/cats/cat025.jpg\n",
      "Write : ./augs_image/validation/cats/cat026.jpg\n",
      "Write : ./augs_image/validation/cats/cat027.jpg\n",
      "Write : ./augs_image/validation/cats/cat028.jpg\n",
      "Write : ./augs_image/validation/cats/cat029.jpg\n",
      "Done~~~~\n"
     ]
    }
   ],
   "source": [
    "dog_folder2 = \"./augs_image/validation/dogs\"\n",
    "cat_folder2 = \"./augs_image/validation/cats\"\n",
    "\n",
    "aug_image(dog_folder2, 0, 5, pre_fix=\"dog\") # flip\n",
    "aug_image(dog_folder2, 1, 10, pre_fix=\"dog\") # rotate\n",
    "aug_image(dog_folder2, 2, 10, pre_fix=\"dog\") # blurr\n",
    "\n",
    "aug_image(cat_folder2, 0, 5, pre_fix=\"cat\") # flip\n",
    "aug_image(cat_folder2, 1, 10, pre_fix=\"cat\") # rotate\n",
    "aug_image(cat_folder2, 2, 10, pre_fix=\"cat\") # blurr"
   ]
  },
  {
   "cell_type": "markdown",
   "metadata": {},
   "source": [
    "# ImageDataGenerator"
   ]
  },
  {
   "cell_type": "markdown",
   "metadata": {},
   "source": [
    "## Import packages"
   ]
  },
  {
   "cell_type": "code",
   "execution_count": 2,
   "metadata": {},
   "outputs": [
    {
     "name": "stderr",
     "output_type": "stream",
     "text": [
      "Using TensorFlow backend.\n"
     ]
    }
   ],
   "source": [
    "from keras.preprocessing.image import ImageDataGenerator"
   ]
  },
  {
   "cell_type": "markdown",
   "metadata": {},
   "source": [
    "## ImageDataGenerator"
   ]
  },
  {
   "cell_type": "code",
   "execution_count": 8,
   "metadata": {},
   "outputs": [
    {
     "name": "stdout",
     "output_type": "stream",
     "text": [
      "./augs_image\\train\n",
      "./augs_image\\validation\n",
      "./augs_image\\test\n"
     ]
    }
   ],
   "source": [
    "# scale 1 / 255\n",
    "train_datagen = ImageDataGenerator(rescale=1/255)\n",
    "test_datagen = ImageDataGenerator(rescale=1/255)\n",
    "\n",
    "base_dir = \"./augs_image\"\n",
    "train_dir = os.path.join(base_dir, \"train\")\n",
    "validation_dir = os.path.join(base_dir, \"validation\")\n",
    "test_dir = os.path.join(base_dir, \"test\")\n",
    "\n",
    "print(train_dir)\n",
    "print(validation_dir)\n",
    "print(test_dir)"
   ]
  },
  {
   "cell_type": "code",
   "execution_count": 9,
   "metadata": {},
   "outputs": [
    {
     "name": "stdout",
     "output_type": "stream",
     "text": [
      "Found 80 images belonging to 2 classes.\n",
      "Found 60 images belonging to 2 classes.\n"
     ]
    }
   ],
   "source": [
    "train_generator = train_datagen.flow_from_directory(train_dir,\n",
    "                                                    target_size=(224,224),\n",
    "                                                    batch_size=20,\n",
    "                                                    class_mode='binary')\n",
    "validation_generator = test_datagen.flow_from_directory(validation_dir,\n",
    "                                                        target_size=(224,224),\n",
    "                                                        batch_size=20,\n",
    "                                                        class_mode='binary')\n"
   ]
  },
  {
   "cell_type": "code",
   "execution_count": 65,
   "metadata": {},
   "outputs": [],
   "source": [
    "#for data_batch, labels_batch in train_generator:\n",
    "#    print(\"Batch size:\", data_batch.shape)\n",
    "#    print(\"Label size:\", labels_batch.shape)\n",
    "#    break\n"
   ]
  },
  {
   "cell_type": "markdown",
   "metadata": {},
   "source": [
    "# My VGG"
   ]
  },
  {
   "cell_type": "markdown",
   "metadata": {},
   "source": [
    "## Import Package"
   ]
  },
  {
   "cell_type": "code",
   "execution_count": 5,
   "metadata": {},
   "outputs": [],
   "source": [
    "from keras.layers import Input, Dense, GlobalAveragePooling2D, Flatten\n",
    "from keras.models import Model\n",
    "\n",
    "from keras.applications.vgg16 import VGG16\n",
    "from keras import layers\n",
    "from keras import models"
   ]
  },
  {
   "cell_type": "markdown",
   "metadata": {},
   "source": [
    "## VGG"
   ]
  },
  {
   "cell_type": "code",
   "execution_count": 10,
   "metadata": {},
   "outputs": [
    {
     "name": "stdout",
     "output_type": "stream",
     "text": [
      "Model: \"model_2\"\n",
      "_________________________________________________________________\n",
      "Layer (type)                 Output Shape              Param #   \n",
      "=================================================================\n",
      "input_2 (InputLayer)         (None, 224, 224, 3)       0         \n",
      "_________________________________________________________________\n",
      "block1_conv1 (Conv2D)        (None, 224, 224, 64)      1792      \n",
      "_________________________________________________________________\n",
      "block1_conv2 (Conv2D)        (None, 224, 224, 64)      36928     \n",
      "_________________________________________________________________\n",
      "block1_pool (MaxPooling2D)   (None, 112, 112, 64)      0         \n",
      "_________________________________________________________________\n",
      "block2_conv1 (Conv2D)        (None, 112, 112, 128)     73856     \n",
      "_________________________________________________________________\n",
      "block2_conv2 (Conv2D)        (None, 112, 112, 128)     147584    \n",
      "_________________________________________________________________\n",
      "block2_pool (MaxPooling2D)   (None, 56, 56, 128)       0         \n",
      "_________________________________________________________________\n",
      "block3_conv1 (Conv2D)        (None, 56, 56, 256)       295168    \n",
      "_________________________________________________________________\n",
      "block3_conv2 (Conv2D)        (None, 56, 56, 256)       590080    \n",
      "_________________________________________________________________\n",
      "block3_conv3 (Conv2D)        (None, 56, 56, 256)       590080    \n",
      "_________________________________________________________________\n",
      "block3_pool (MaxPooling2D)   (None, 28, 28, 256)       0         \n",
      "_________________________________________________________________\n",
      "block4_conv1 (Conv2D)        (None, 28, 28, 512)       1180160   \n",
      "_________________________________________________________________\n",
      "block4_conv2 (Conv2D)        (None, 28, 28, 512)       2359808   \n",
      "_________________________________________________________________\n",
      "block4_conv3 (Conv2D)        (None, 28, 28, 512)       2359808   \n",
      "_________________________________________________________________\n",
      "block4_pool (MaxPooling2D)   (None, 14, 14, 512)       0         \n",
      "_________________________________________________________________\n",
      "block5_conv1 (Conv2D)        (None, 14, 14, 512)       2359808   \n",
      "_________________________________________________________________\n",
      "block5_conv2 (Conv2D)        (None, 14, 14, 512)       2359808   \n",
      "_________________________________________________________________\n",
      "block5_conv3 (Conv2D)        (None, 14, 14, 512)       2359808   \n",
      "_________________________________________________________________\n",
      "block5_pool (MaxPooling2D)   (None, 7, 7, 512)         0         \n",
      "_________________________________________________________________\n",
      "flatten_2 (Flatten)          (None, 25088)             0         \n",
      "_________________________________________________________________\n",
      "dense (Dense)                (None, 10)                250890    \n",
      "_________________________________________________________________\n",
      "dense_2 (Dense)              (None, 1)                 11        \n",
      "=================================================================\n",
      "Total params: 14,965,589\n",
      "Trainable params: 250,901\n",
      "Non-trainable params: 14,714,688\n",
      "_________________________________________________________________\n"
     ]
    },
    {
     "name": "stderr",
     "output_type": "stream",
     "text": [
      "C:\\ProgramData\\Anaconda3\\envs\\cv\\lib\\site-packages\\ipykernel_launcher.py:11: UserWarning: Update your `Model` call to the Keras 2 API: `Model(inputs=Tensor(\"in..., outputs=Tensor(\"de...)`\n",
      "  # This is added back by InteractiveShellApp.init_path()\n"
     ]
    }
   ],
   "source": [
    "VGGNet =  VGG16()\n",
    "\n",
    "for layer in VGGNet.layers:\n",
    "    layer.trainable = False\n",
    "\n",
    "vgg_maxpool15 = VGGNet.get_layer('block5_pool').output\n",
    "\n",
    "feature_flatten = Flatten()(vgg_maxpool15)\n",
    "dense = Dense(10, name='dense', activation='relu')(feature_flatten)\n",
    "predictions = Dense(1, activation='sigmoid')(dense)\n",
    "NewVGGModel = Model(inputs=VGGNet.input, output=predictions)\n",
    "NewVGGModel.compile(optimizer='rmsprop', loss='binary_crossentropy', metrics=['accuracy'])\n",
    "NewVGGModel.summary()\n",
    "  "
   ]
  },
  {
   "cell_type": "code",
   "execution_count": 11,
   "metadata": {},
   "outputs": [
    {
     "name": "stdout",
     "output_type": "stream",
     "text": [
      "Epoch 1/3\n",
      "10/10 [==============================] - 203s 20s/step - loss: 1.1959 - acc: 0.5350\n",
      "Epoch 2/3\n",
      "10/10 [==============================] - 170s 17s/step - loss: 0.3190 - acc: 0.9500\n",
      "Epoch 3/3\n",
      "10/10 [==============================] - 223s 22s/step - loss: 0.1545 - acc: 0.9800\n"
     ]
    }
   ],
   "source": [
    "NewVGGModel.save('MyVGGNet.h5')\n",
    "\n",
    "history = NewVGGModel.fit_generator(train_generator,\n",
    "                                    steps_per_epoch=10,\n",
    "                                    epochs=3)"
   ]
  },
  {
   "cell_type": "code",
   "execution_count": null,
   "metadata": {},
   "outputs": [],
   "source": []
  }
 ],
 "metadata": {
  "kernelspec": {
   "display_name": "Python 3",
   "language": "python",
   "name": "python3"
  },
  "language_info": {
   "codemirror_mode": {
    "name": "ipython",
    "version": 3
   },
   "file_extension": ".py",
   "mimetype": "text/x-python",
   "name": "python",
   "nbconvert_exporter": "python",
   "pygments_lexer": "ipython3",
   "version": "3.7.3"
  }
 },
 "nbformat": 4,
 "nbformat_minor": 4
}
