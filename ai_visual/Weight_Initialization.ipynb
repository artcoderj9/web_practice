{
 "cells": [
  {
   "cell_type": "markdown",
   "metadata": {},
   "source": [
    "# Weight Initialization\n",
    "* source from keras examples \n",
    "* https://keras.io/examples/reuters_mlp_relu_vs_selu/"
   ]
  },
  {
   "cell_type": "markdown",
   "metadata": {},
   "source": [
    "## Import Packages"
   ]
  },
  {
   "cell_type": "code",
   "execution_count": 2,
   "metadata": {},
   "outputs": [],
   "source": [
    "%matplotlib inline\n",
    "\n",
    "import numpy as np\n",
    "import matplotlib.pyplot as plt\n",
    "import keras\n",
    "from keras.datasets import reuters\n",
    "from keras.models import Sequential\n",
    "from keras.layers import Dense, Activation, Dropout\n",
    "from keras.layers.noise import AlphaDropout\n",
    "from keras.preprocessing.text import Tokenizer\n"
   ]
  },
  {
   "cell_type": "markdown",
   "metadata": {},
   "source": [
    "## Global Parameters"
   ]
  },
  {
   "cell_type": "code",
   "execution_count": 3,
   "metadata": {},
   "outputs": [],
   "source": [
    "max_words = 1000\n",
    "batch_size = 16\n",
    "epochs = 40\n",
    "plot = True"
   ]
  },
  {
   "cell_type": "markdown",
   "metadata": {},
   "source": [
    "## 'create_network' function definition"
   ]
  },
  {
   "cell_type": "code",
   "execution_count": 24,
   "metadata": {},
   "outputs": [],
   "source": [
    "def create_network(n_dense=6,\n",
    "                   dense_units=16,\n",
    "                   activation='selu',\n",
    "                   dropout=AlphaDropout,\n",
    "                   dropout_rate=0.1,\n",
    "                   kernel_initializer='lecun_normal',\n",
    "                   optimizer='adam',\n",
    "                   num_classes=1,\n",
    "                   max_words=max_words):\n",
    "    # sequential\n",
    "    model = Sequential()\n",
    "    \n",
    "    # input layer\n",
    "    model.add(Dense(dense_units, input_shape=(max_words,),\n",
    "                    kernel_initializer=kernel_initializer))\n",
    "    model.add(Activation(activation))\n",
    "    model.add(dropout(dropout_rate))\n",
    "    \n",
    "    # hidden layers\n",
    "    for i in range(n_dense - 1):\n",
    "        model.add(Dense(dense_units, kernel_initializer=kernel_initializer))\n",
    "        model.add(Activation(activation))\n",
    "        model.add(dropout(dropout_rate))\n",
    "        \n",
    "    # output layer\n",
    "    model.add(Dense(num_classes))\n",
    "    model.add(Activation('softmax'))\n",
    "    model.compile(loss='categorical_crossentropy',\n",
    "                  optimizer=optimizer,\n",
    "                  metrics=['accuracy'])\n",
    "    return model"
   ]
  },
  {
   "cell_type": "markdown",
   "metadata": {},
   "source": [
    "## Create relu and selu network"
   ]
  },
  {
   "cell_type": "code",
   "execution_count": 20,
   "metadata": {},
   "outputs": [],
   "source": [
    "network_relu = {\n",
    "    'n_dense': 6,\n",
    "    'dense_units': 16,\n",
    "    'activation':'relu',\n",
    "    'dropout': Dropout,\n",
    "    'dropout_rate': 0.5,\n",
    "    'kernel_initializer': 'glorot_uniform',\n",
    "    'optimizer': 'sgd'\n",
    "}\n",
    "\n",
    "network_selu = {\n",
    "    'n_dense': 6,\n",
    "    'dense_units': 16,\n",
    "    'activation':'selu',\n",
    "    'dropout': AlphaDropout,\n",
    "    'dropout_rate': 0.1,\n",
    "    'kernel_initializer': 'lecun_normal',\n",
    "    'optimizer': 'sgd'\n",
    "}"
   ]
  },
  {
   "cell_type": "markdown",
   "metadata": {},
   "source": [
    "## Load Data"
   ]
  },
  {
   "cell_type": "code",
   "execution_count": 14,
   "metadata": {},
   "outputs": [
    {
     "name": "stdout",
     "output_type": "stream",
     "text": [
      "Loading data...\n",
      "8982 train sequences\n",
      "2246 test sequences\n"
     ]
    }
   ],
   "source": [
    "print('Loading data...')\n",
    "(x_train, y_train), (x_test, y_test) = reuters.load_data(num_words=max_words,\n",
    "                                                         test_split=0.2)\n",
    "print(len(x_train), 'train sequences')\n",
    "print(len(x_test), 'test sequences')"
   ]
  },
  {
   "cell_type": "markdown",
   "metadata": {},
   "source": [
    "## Vectorizing sequence data"
   ]
  },
  {
   "cell_type": "code",
   "execution_count": 15,
   "metadata": {},
   "outputs": [
    {
     "name": "stdout",
     "output_type": "stream",
     "text": [
      "46 classes\n",
      "Vectorizing...\n",
      "x_train shape: (8982, 1000)\n",
      "x_test shape: (2246, 1000)\n"
     ]
    }
   ],
   "source": [
    "num_classes = np.max(y_train) + 1\n",
    "print(num_classes, 'classes')\n",
    "\n",
    "print('Vectorizing...')\n",
    "tokenizer = Tokenizer(num_words=max_words)\n",
    "x_train = tokenizer.sequences_to_matrix(x_train, mode='binary')\n",
    "x_test = tokenizer.sequences_to_matrix(x_test, mode='binary')\n",
    "print('x_train shape:', x_train.shape)\n",
    "print('x_test shape:', x_test.shape)"
   ]
  },
  {
   "cell_type": "markdown",
   "metadata": {},
   "source": [
    "## Convert class vector to binary class matrix"
   ]
  },
  {
   "cell_type": "code",
   "execution_count": 16,
   "metadata": {},
   "outputs": [
    {
     "name": "stdout",
     "output_type": "stream",
     "text": [
      "Convert class vector to binary class matrix (for use with categorical_crossentropy)\n",
      "y_train shape: (8982, 46)\n",
      "y_test shape: (2246, 46)\n"
     ]
    }
   ],
   "source": [
    "print('Convert class vector to binary class matrix '\n",
    "      '(for use with categorical_crossentropy)')\n",
    "\n",
    "y_train = keras.utils.to_categorical(y_train, num_classes)\n",
    "y_test = keras.utils.to_categorical(y_test, num_classes)\n",
    "print('y_train shape:', y_train.shape)\n",
    "print('y_test shape:', y_test.shape)"
   ]
  },
  {
   "cell_type": "markdown",
   "metadata": {},
   "source": [
    "## Building network_relu"
   ]
  },
  {
   "cell_type": "code",
   "execution_count": 25,
   "metadata": {},
   "outputs": [
    {
     "name": "stdout",
     "output_type": "stream",
     "text": [
      "\n",
      "Building network relu...\n",
      "WARNING:tensorflow:From C:\\ProgramData\\Anaconda3\\envs\\cv\\lib\\site-packages\\tensorflow\\python\\framework\\op_def_library.py:263: colocate_with (from tensorflow.python.framework.ops) is deprecated and will be removed in a future version.\n",
      "Instructions for updating:\n",
      "Colocations handled automatically by placer.\n",
      "WARNING:tensorflow:From C:\\ProgramData\\Anaconda3\\envs\\cv\\lib\\site-packages\\keras\\backend\\tensorflow_backend.py:3733: calling dropout (from tensorflow.python.ops.nn_ops) with keep_prob is deprecated and will be removed in a future version.\n",
      "Instructions for updating:\n",
      "Please use `rate` instead of `keep_prob`. Rate should be set to `rate = 1 - keep_prob`.\n",
      "WARNING:tensorflow:From C:\\ProgramData\\Anaconda3\\envs\\cv\\lib\\site-packages\\tensorflow\\python\\ops\\math_ops.py:3066: to_int32 (from tensorflow.python.ops.math_ops) is deprecated and will be removed in a future version.\n",
      "Instructions for updating:\n",
      "Use tf.cast instead.\n",
      "Train on 8083 samples, validate on 899 samples\n",
      "Epoch 1/40\n",
      "8083/8083 [==============================] - 2s 206us/step - loss: 3.2127 - acc: 0.3088 - val_loss: 2.6763 - val_acc: 0.3315\n",
      "Epoch 2/40\n",
      "8083/8083 [==============================] - 1s 128us/step - loss: 2.5515 - acc: 0.3501 - val_loss: 2.3658 - val_acc: 0.3315\n",
      "Epoch 3/40\n",
      "8083/8083 [==============================] - 1s 125us/step - loss: 2.3512 - acc: 0.3542 - val_loss: 2.2176 - val_acc: 0.3315\n",
      "Epoch 4/40\n",
      "8083/8083 [==============================] - 1s 120us/step - loss: 2.2616 - acc: 0.3969 - val_loss: 2.1382 - val_acc: 0.4739\n",
      "Epoch 5/40\n",
      "8083/8083 [==============================] - 1s 134us/step - loss: 2.2086 - acc: 0.4341 - val_loss: 2.1007 - val_acc: 0.4828\n",
      "Epoch 6/40\n",
      "8083/8083 [==============================] - 1s 131us/step - loss: 2.1689 - acc: 0.4398 - val_loss: 2.0707 - val_acc: 0.4883\n",
      "Epoch 7/40\n",
      "8083/8083 [==============================] - 1s 151us/step - loss: 2.1397 - acc: 0.4467 - val_loss: 2.0382 - val_acc: 0.4872\n",
      "Epoch 8/40\n",
      "8083/8083 [==============================] - 1s 155us/step - loss: 2.1046 - acc: 0.4566 - val_loss: 2.0653 - val_acc: 0.4739\n",
      "Epoch 9/40\n",
      "8083/8083 [==============================] - 1s 148us/step - loss: 2.1104 - acc: 0.4571 - val_loss: 2.0586 - val_acc: 0.4828\n",
      "Epoch 10/40\n",
      "8083/8083 [==============================] - 1s 139us/step - loss: 2.0954 - acc: 0.4643 - val_loss: 2.0085 - val_acc: 0.5017\n",
      "Epoch 11/40\n",
      "8083/8083 [==============================] - 1s 131us/step - loss: 2.0667 - acc: 0.4641 - val_loss: 2.0000 - val_acc: 0.5061\n",
      "Epoch 12/40\n",
      "8083/8083 [==============================] - 1s 136us/step - loss: 2.0615 - acc: 0.4655 - val_loss: 1.9881 - val_acc: 0.5061\n",
      "Epoch 13/40\n",
      "8083/8083 [==============================] - 1s 152us/step - loss: 2.0400 - acc: 0.4732 - val_loss: 1.9706 - val_acc: 0.4961\n",
      "Epoch 14/40\n",
      "8083/8083 [==============================] - 1s 169us/step - loss: 2.0300 - acc: 0.4652 - val_loss: 1.9884 - val_acc: 0.4883\n",
      "Epoch 15/40\n",
      "8083/8083 [==============================] - 1s 157us/step - loss: 2.0201 - acc: 0.4715 - val_loss: 1.9757 - val_acc: 0.5072\n",
      "Epoch 16/40\n",
      "8083/8083 [==============================] - 1s 148us/step - loss: 1.9998 - acc: 0.4778 - val_loss: 1.9618 - val_acc: 0.5050\n",
      "Epoch 17/40\n",
      "8083/8083 [==============================] - 1s 144us/step - loss: 1.9933 - acc: 0.4749 - val_loss: 1.9644 - val_acc: 0.5039\n",
      "Epoch 18/40\n",
      "8083/8083 [==============================] - 1s 157us/step - loss: 1.9978 - acc: 0.4741 - val_loss: 1.9560 - val_acc: 0.5061\n",
      "Epoch 19/40\n",
      "8083/8083 [==============================] - 1s 152us/step - loss: 2.0204 - acc: 0.4775 - val_loss: 1.9826 - val_acc: 0.5117\n",
      "Epoch 20/40\n",
      "8083/8083 [==============================] - 1s 152us/step - loss: 1.9790 - acc: 0.4810 - val_loss: 1.9604 - val_acc: 0.5095\n",
      "Epoch 21/40\n",
      "8083/8083 [==============================] - 1s 144us/step - loss: 1.9861 - acc: 0.4809 - val_loss: 1.9753 - val_acc: 0.5128\n",
      "Epoch 22/40\n",
      "8083/8083 [==============================] - 1s 152us/step - loss: 1.9548 - acc: 0.4831 - val_loss: 1.9260 - val_acc: 0.5061\n",
      "Epoch 23/40\n",
      "8083/8083 [==============================] - 1s 150us/step - loss: 1.9622 - acc: 0.4832 - val_loss: 1.9763 - val_acc: 0.5061\n",
      "Epoch 24/40\n",
      "8083/8083 [==============================] - 1s 158us/step - loss: 1.9556 - acc: 0.4883 - val_loss: 1.9308 - val_acc: 0.5117\n",
      "Epoch 25/40\n",
      "8083/8083 [==============================] - 1s 156us/step - loss: 1.9462 - acc: 0.4878 - val_loss: 1.9481 - val_acc: 0.5139\n",
      "Epoch 26/40\n",
      "8083/8083 [==============================] - 1s 155us/step - loss: 1.9428 - acc: 0.4843 - val_loss: 1.9120 - val_acc: 0.5050\n",
      "Epoch 27/40\n",
      "8083/8083 [==============================] - 1s 150us/step - loss: 1.9424 - acc: 0.4871 - val_loss: 1.9626 - val_acc: 0.5139\n",
      "Epoch 28/40\n",
      "8083/8083 [==============================] - 1s 176us/step - loss: 1.9181 - acc: 0.4918 - val_loss: 1.9021 - val_acc: 0.5095\n",
      "Epoch 29/40\n",
      "8083/8083 [==============================] - 1s 152us/step - loss: 1.9371 - acc: 0.4920 - val_loss: 1.9346 - val_acc: 0.5150\n",
      "Epoch 30/40\n",
      "8083/8083 [==============================] - 1s 169us/step - loss: 1.9129 - acc: 0.4902 - val_loss: 1.9920 - val_acc: 0.5095\n",
      "Epoch 31/40\n",
      "8083/8083 [==============================] - 1s 146us/step - loss: 1.9381 - acc: 0.4857 - val_loss: 1.9526 - val_acc: 0.5072\n",
      "Epoch 32/40\n",
      "8083/8083 [==============================] - 1s 163us/step - loss: 1.9237 - acc: 0.4840 - val_loss: 1.9412 - val_acc: 0.5083\n",
      "Epoch 33/40\n",
      "8083/8083 [==============================] - 1s 178us/step - loss: 1.9063 - acc: 0.4891 - val_loss: 1.9588 - val_acc: 0.5117\n",
      "Epoch 34/40\n",
      "8083/8083 [==============================] - 1s 150us/step - loss: 1.9370 - acc: 0.4853 - val_loss: 2.0149 - val_acc: 0.5172\n",
      "Epoch 35/40\n",
      "8083/8083 [==============================] - 1s 158us/step - loss: 1.9240 - acc: 0.4914 - val_loss: 1.9152 - val_acc: 0.5083\n",
      "Epoch 36/40\n",
      "8083/8083 [==============================] - 1s 156us/step - loss: 1.8963 - acc: 0.4956 - val_loss: 1.9228 - val_acc: 0.5106\n",
      "Epoch 37/40\n",
      "8083/8083 [==============================] - 1s 158us/step - loss: 1.9042 - acc: 0.4924 - val_loss: 1.9593 - val_acc: 0.5150\n",
      "Epoch 38/40\n",
      "8083/8083 [==============================] - 1s 165us/step - loss: 1.9089 - acc: 0.4929 - val_loss: 1.9004 - val_acc: 0.5006\n",
      "Epoch 39/40\n",
      "8083/8083 [==============================] - 1s 165us/step - loss: 1.8952 - acc: 0.4942 - val_loss: 1.9304 - val_acc: 0.5184\n",
      "Epoch 40/40\n",
      "8083/8083 [==============================] - 1s 165us/step - loss: 1.9236 - acc: 0.4976 - val_loss: 1.8973 - val_acc: 0.5083\n",
      "2246/2246 [==============================] - 0s 74us/step\n"
     ]
    }
   ],
   "source": [
    "print('\\nBuilding network relu...')\n",
    "\n",
    "model_relu = create_network(num_classes=num_classes, **network_relu)\n",
    "history_model_relu = model_relu.fit(x_train,\n",
    "                            y_train,\n",
    "                            batch_size=batch_size,\n",
    "                            epochs=epochs,\n",
    "                            verbose=1,\n",
    "                            validation_split=0.1)\n",
    "\n",
    "score_model_relu = model_relu.evaluate(x_test,\n",
    "                               y_test,\n",
    "                               batch_size=batch_size,\n",
    "                               verbose=1)"
   ]
  },
  {
   "cell_type": "markdown",
   "metadata": {},
   "source": [
    "## Building network_selu"
   ]
  },
  {
   "cell_type": "code",
   "execution_count": 26,
   "metadata": {},
   "outputs": [
    {
     "name": "stdout",
     "output_type": "stream",
     "text": [
      "\n",
      "Building network selu...\n",
      "Train on 8083 samples, validate on 899 samples\n",
      "Epoch 1/40\n",
      "8083/8083 [==============================] - 3s 366us/step - loss: 2.8115 - acc: 0.2947 - val_loss: 2.5983 - val_acc: 0.3326\n",
      "Epoch 2/40\n",
      "8083/8083 [==============================] - 2s 237us/step - loss: 2.3098 - acc: 0.3855 - val_loss: 1.9794 - val_acc: 0.5039\n",
      "Epoch 3/40\n",
      "8083/8083 [==============================] - 2s 233us/step - loss: 2.0942 - acc: 0.4522 - val_loss: 1.9449 - val_acc: 0.5128\n",
      "Epoch 4/40\n",
      "8083/8083 [==============================] - 2s 237us/step - loss: 1.9826 - acc: 0.4861 - val_loss: 1.8409 - val_acc: 0.5606\n",
      "Epoch 5/40\n",
      "8083/8083 [==============================] - 2s 237us/step - loss: 1.9111 - acc: 0.5070 - val_loss: 1.8321 - val_acc: 0.5651\n",
      "Epoch 6/40\n",
      "8083/8083 [==============================] - 2s 248us/step - loss: 1.8696 - acc: 0.5169 - val_loss: 1.8536 - val_acc: 0.5640\n",
      "Epoch 7/40\n",
      "8083/8083 [==============================] - 2s 240us/step - loss: 1.8182 - acc: 0.5322 - val_loss: 1.8310 - val_acc: 0.5773\n",
      "Epoch 8/40\n",
      "8083/8083 [==============================] - 2s 258us/step - loss: 1.8017 - acc: 0.5383 - val_loss: 1.8046 - val_acc: 0.5829\n",
      "Epoch 9/40\n",
      "8083/8083 [==============================] - 2s 279us/step - loss: 1.7525 - acc: 0.5524 - val_loss: 1.8058 - val_acc: 0.5862\n",
      "Epoch 10/40\n",
      "8083/8083 [==============================] - 2s 267us/step - loss: 1.7332 - acc: 0.5613 - val_loss: 1.7917 - val_acc: 0.5884\n",
      "Epoch 11/40\n",
      "8083/8083 [==============================] - 2s 259us/step - loss: 1.7118 - acc: 0.5624 - val_loss: 1.7874 - val_acc: 0.5940\n",
      "Epoch 12/40\n",
      "8083/8083 [==============================] - 2s 287us/step - loss: 1.6861 - acc: 0.5705 - val_loss: 1.8238 - val_acc: 0.5973\n",
      "Epoch 13/40\n",
      "8083/8083 [==============================] - 2s 218us/step - loss: 1.6804 - acc: 0.5686 - val_loss: 1.7918 - val_acc: 0.5907\n",
      "Epoch 14/40\n",
      "8083/8083 [==============================] - 2s 219us/step - loss: 1.6529 - acc: 0.5758 - val_loss: 1.7775 - val_acc: 0.6018\n",
      "Epoch 15/40\n",
      "8083/8083 [==============================] - 2s 211us/step - loss: 1.6429 - acc: 0.5765 - val_loss: 1.7610 - val_acc: 0.6018\n",
      "Epoch 16/40\n",
      "8083/8083 [==============================] - 2s 211us/step - loss: 1.6327 - acc: 0.5812 - val_loss: 1.7727 - val_acc: 0.6051\n",
      "Epoch 17/40\n",
      "8083/8083 [==============================] - 2s 203us/step - loss: 1.6056 - acc: 0.5860 - val_loss: 1.7469 - val_acc: 0.6251\n",
      "Epoch 18/40\n",
      "8083/8083 [==============================] - 2s 199us/step - loss: 1.6189 - acc: 0.5904 - val_loss: 1.8232 - val_acc: 0.6140\n",
      "Epoch 19/40\n",
      "8083/8083 [==============================] - 2s 211us/step - loss: 1.6058 - acc: 0.5838 - val_loss: 1.7879 - val_acc: 0.6107\n",
      "Epoch 20/40\n",
      "8083/8083 [==============================] - 2s 203us/step - loss: 1.5793 - acc: 0.5924 - val_loss: 1.7621 - val_acc: 0.6296\n",
      "Epoch 21/40\n",
      "8083/8083 [==============================] - 2s 198us/step - loss: 1.5710 - acc: 0.6001 - val_loss: 1.7332 - val_acc: 0.6240\n",
      "Epoch 22/40\n",
      "8083/8083 [==============================] - 2s 189us/step - loss: 1.5686 - acc: 0.5972 - val_loss: 1.7135 - val_acc: 0.6274\n",
      "Epoch 23/40\n",
      "8083/8083 [==============================] - 2s 215us/step - loss: 1.5625 - acc: 0.6013 - val_loss: 1.6988 - val_acc: 0.6340\n",
      "Epoch 24/40\n",
      "8083/8083 [==============================] - 2s 271us/step - loss: 1.5431 - acc: 0.6056 - val_loss: 1.7359 - val_acc: 0.6352\n",
      "Epoch 25/40\n",
      "8083/8083 [==============================] - 2s 210us/step - loss: 1.5355 - acc: 0.6070 - val_loss: 1.8453 - val_acc: 0.6185\n",
      "Epoch 26/40\n",
      "8083/8083 [==============================] - 2s 210us/step - loss: 1.5272 - acc: 0.6150 - val_loss: 1.7131 - val_acc: 0.6352\n",
      "Epoch 27/40\n",
      "8083/8083 [==============================] - 2s 194us/step - loss: 1.5153 - acc: 0.6152 - val_loss: 1.6925 - val_acc: 0.6418\n",
      "Epoch 28/40\n",
      "8083/8083 [==============================] - 2s 195us/step - loss: 1.5152 - acc: 0.6186 - val_loss: 1.6448 - val_acc: 0.6429\n",
      "Epoch 29/40\n",
      "8083/8083 [==============================] - 2s 198us/step - loss: 1.5017 - acc: 0.6203 - val_loss: 1.6854 - val_acc: 0.6440\n",
      "Epoch 30/40\n",
      "8083/8083 [==============================] - 2s 196us/step - loss: 1.4950 - acc: 0.6228 - val_loss: 1.6941 - val_acc: 0.6407\n",
      "Epoch 31/40\n",
      "8083/8083 [==============================] - 2s 204us/step - loss: 1.4865 - acc: 0.6281 - val_loss: 1.6816 - val_acc: 0.6485\n",
      "Epoch 32/40\n",
      "8083/8083 [==============================] - 2s 201us/step - loss: 1.4748 - acc: 0.6256 - val_loss: 1.6625 - val_acc: 0.6474\n",
      "Epoch 33/40\n",
      "8083/8083 [==============================] - 2s 198us/step - loss: 1.4707 - acc: 0.6300 - val_loss: 1.6652 - val_acc: 0.6474\n",
      "Epoch 34/40\n",
      "8083/8083 [==============================] - 2s 198us/step - loss: 1.4702 - acc: 0.6312 - val_loss: 1.6675 - val_acc: 0.6585\n",
      "Epoch 35/40\n",
      "8083/8083 [==============================] - 2s 197us/step - loss: 1.4588 - acc: 0.6374 - val_loss: 1.6874 - val_acc: 0.6474\n",
      "Epoch 36/40\n",
      "8083/8083 [==============================] - 2s 200us/step - loss: 1.4540 - acc: 0.6327 - val_loss: 1.6872 - val_acc: 0.6474\n",
      "Epoch 37/40\n",
      "8083/8083 [==============================] - 2s 206us/step - loss: 1.4518 - acc: 0.6381 - val_loss: 1.6910 - val_acc: 0.6507\n",
      "Epoch 38/40\n",
      "8083/8083 [==============================] - 2s 203us/step - loss: 1.4337 - acc: 0.6395 - val_loss: 1.7010 - val_acc: 0.6463\n",
      "Epoch 39/40\n",
      "8083/8083 [==============================] - 2s 200us/step - loss: 1.4338 - acc: 0.6404 - val_loss: 1.6422 - val_acc: 0.6574\n",
      "Epoch 40/40\n",
      "8083/8083 [==============================] - 2s 198us/step - loss: 1.4242 - acc: 0.6484 - val_loss: 1.6349 - val_acc: 0.6541\n",
      "2246/2246 [==============================] - 0s 76us/step\n"
     ]
    }
   ],
   "source": [
    "print('\\nBuilding network selu...')\n",
    "model_selu = create_network(num_classes=num_classes, **network_selu)\n",
    "\n",
    "history_model_selu = model_selu.fit(x_train,\n",
    "                            y_train,\n",
    "                            batch_size=batch_size,\n",
    "                            epochs=epochs,\n",
    "                            verbose=1,\n",
    "                            validation_split=0.1)\n",
    "\n",
    "score_model_selu = model_selu.evaluate(x_test,\n",
    "                               y_test,\n",
    "                               batch_size=batch_size,\n",
    "                               verbose=1)"
   ]
  },
  {
   "cell_type": "markdown",
   "metadata": {},
   "source": [
    "## Print result"
   ]
  },
  {
   "cell_type": "code",
   "execution_count": 27,
   "metadata": {},
   "outputs": [
    {
     "name": "stdout",
     "output_type": "stream",
     "text": [
      "---Network relu results---\n",
      "Hyperparameters: {'n_dense': 6, 'dense_units': 16, 'activation': 'relu', 'dropout': <class 'keras.layers.core.Dropout'>, 'dropout_rate': 0.5, 'kernel_initializer': 'glorot_uniform', 'optimizer': 'sgd'}\n",
      "Test score: 1.90460270192086\n",
      "Test accuracy: 0.5155832591538756\n",
      "---Network selu results---\n",
      "Hyperparameters: {'n_dense': 6, 'dense_units': 16, 'activation': 'selu', 'dropout': <class 'keras.layers.noise.AlphaDropout'>, 'dropout_rate': 0.1, 'kernel_initializer': 'lecun_normal', 'optimizer': 'sgd'}\n",
      "Test score: 1.614619838904825\n",
      "Test accuracy: 0.641585040124314\n"
     ]
    }
   ],
   "source": [
    "print('---Network relu results---')\n",
    "print('Hyperparameters:', network_relu)\n",
    "print('Test score:', score_model_relu[0])\n",
    "print('Test accuracy:', score_model_relu[1])\n",
    "\n",
    "print('---Network selu results---')\n",
    "print('Hyperparameters:', network_selu)\n",
    "print('Test score:', score_model_selu[0])\n",
    "print('Test accuracy:', score_model_selu[1])"
   ]
  },
  {
   "cell_type": "markdown",
   "metadata": {},
   "source": [
    "## Draw plot"
   ]
  },
  {
   "cell_type": "code",
   "execution_count": 28,
   "metadata": {},
   "outputs": [
    {
     "data": {
      "image/png": "[encoded data removed]",
      "text/plain": [
       "<Figure size 432x288 with 1 Axes>"
      ]
     },
     "metadata": {
      "needs_background": "light"
     },
     "output_type": "display_data"
    }
   ],
   "source": [
    "plt.plot(range(epochs),\n",
    "         history_model_relu.history['val_loss'],\n",
    "         'g-',\n",
    "         label='Network relu Val Loss')\n",
    "plt.plot(range(epochs),\n",
    "         history_model_selu.history['val_loss'],\n",
    "         'r-',\n",
    "         label='Network selu Val Loss')\n",
    "plt.plot(range(epochs),\n",
    "         history_model_relu.history['loss'],\n",
    "         'g--',\n",
    "         label='Network relu Loss')\n",
    "plt.plot(range(epochs),\n",
    "         history_model_selu.history['loss'],\n",
    "         'r--',\n",
    "         label='Network selu Loss')\n",
    "plt.xlabel('Epochs')\n",
    "plt.ylabel('Loss')\n",
    "plt.legend()\n",
    "plt.show()"
   ]
  },
  {
   "cell_type": "code",
   "execution_count": null,
   "metadata": {},
   "outputs": [],
   "source": []
  }
 ],
 "metadata": {
  "kernelspec": {
   "display_name": "Python 3",
   "language": "python",
   "name": "python3"
  },
  "language_info": {
   "codemirror_mode": {
    "name": "ipython",
    "version": 3
   },
   "file_extension": ".py",
   "mimetype": "text/x-python",
   "name": "python",
   "nbconvert_exporter": "python",
   "pygments_lexer": "ipython3",
   "version": "3.7.3"
  }
 },
 "nbformat": 4,
 "nbformat_minor": 4
}
