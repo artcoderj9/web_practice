{
 "cells": [
  {
   "cell_type": "markdown",
   "metadata": {},
   "source": [
    "# Autoencoder"
   ]
  },
  {
   "cell_type": "markdown",
   "metadata": {},
   "source": [
    "## Import Package"
   ]
  },
  {
   "cell_type": "code",
   "execution_count": 1,
   "metadata": {},
   "outputs": [
    {
     "name": "stderr",
     "output_type": "stream",
     "text": [
      "Using TensorFlow backend.\n"
     ]
    }
   ],
   "source": [
    "from keras import layers\n",
    "from keras import models"
   ]
  },
  {
   "cell_type": "markdown",
   "metadata": {},
   "source": [
    "## Autoencoder"
   ]
  },
  {
   "cell_type": "code",
   "execution_count": 3,
   "metadata": {},
   "outputs": [
    {
     "name": "stdout",
     "output_type": "stream",
     "text": [
      "Model: \"model_1\"\n",
      "_________________________________________________________________\n",
      "Layer (type)                 Output Shape              Param #   \n",
      "=================================================================\n",
      "input_2 (InputLayer)         (None, 784)               0         \n",
      "_________________________________________________________________\n",
      "dense_2 (Dense)              (None, 32)                25120     \n",
      "_________________________________________________________________\n",
      "dense_3 (Dense)              (None, 784)               25872     \n",
      "=================================================================\n",
      "Total params: 50,992\n",
      "Trainable params: 50,992\n",
      "Non-trainable params: 0\n",
      "_________________________________________________________________\n"
     ]
    }
   ],
   "source": [
    "encoding_dim = 32 # 축소된 representation vector의 크기\n",
    "\n",
    "input_img = layers.Input(shape=(784,))\n",
    "encoded = layers.Dense(encoding_dim, activation='relu')(input_img)\n",
    "decoded = layers.Dense(784, activation='sigmoid')(encoded)\n",
    "\n",
    "autoencoder = models.Model(input_img, decoded)\n",
    "autoencoder.summary()"
   ]
  },
  {
   "cell_type": "markdown",
   "metadata": {},
   "source": [
    "## Compile autoencoder"
   ]
  },
  {
   "cell_type": "code",
   "execution_count": 5,
   "metadata": {},
   "outputs": [],
   "source": [
    "autoencoder.compile(optimizer='adadelta', loss='binary_crossentropy')"
   ]
  },
  {
   "cell_type": "markdown",
   "metadata": {},
   "source": [
    "## Load Data"
   ]
  },
  {
   "cell_type": "code",
   "execution_count": 10,
   "metadata": {},
   "outputs": [
    {
     "name": "stdout",
     "output_type": "stream",
     "text": [
      "(60000, 784)\n",
      "(10000, 784)\n"
     ]
    }
   ],
   "source": [
    "from keras import datasets\n",
    "import numpy as np\n",
    "\n",
    "(x_train, _), (x_test, _) = datasets.mnist.load_data()\n",
    "x_train = x_train / 255\n",
    "x_test = x_test / 255\n",
    "x_train = x_train.reshape((len(x_train), np.prod(x_train.shape[1:])))\n",
    "x_test = x_test.reshape((len(x_test), np.prod(x_test.shape[1:])))\n",
    "\n",
    "print(x_train.shape)\n",
    "print(x_test.shape)"
   ]
  },
  {
   "cell_type": "markdown",
   "metadata": {},
   "source": [
    "## Learning"
   ]
  },
  {
   "cell_type": "code",
   "execution_count": 11,
   "metadata": {},
   "outputs": [
    {
     "name": "stdout",
     "output_type": "stream",
     "text": [
      "WARNING:tensorflow:From C:\\ProgramData\\Anaconda3\\envs\\cv\\lib\\site-packages\\tensorflow\\python\\ops\\math_ops.py:3066: to_int32 (from tensorflow.python.ops.math_ops) is deprecated and will be removed in a future version.\n",
      "Instructions for updating:\n",
      "Use tf.cast instead.\n",
      "Train on 60000 samples, validate on 10000 samples\n",
      "Epoch 1/50\n",
      "60000/60000 [==============================] - 5s 89us/step - loss: 0.3685 - val_loss: 0.2715\n",
      "Epoch 2/50\n",
      "60000/60000 [==============================] - 5s 78us/step - loss: 0.2651 - val_loss: 0.2549\n",
      "Epoch 3/50\n",
      "60000/60000 [==============================] - 5s 81us/step - loss: 0.2442 - val_loss: 0.2313\n",
      "Epoch 4/50\n",
      "60000/60000 [==============================] - 5s 76us/step - loss: 0.2230 - val_loss: 0.2128\n",
      "Epoch 5/50\n",
      "60000/60000 [==============================] - 5s 78us/step - loss: 0.2073 - val_loss: 0.1998\n",
      "Epoch 6/50\n",
      "60000/60000 [==============================] - 5s 78us/step - loss: 0.1965 - val_loss: 0.1908\n",
      "Epoch 7/50\n",
      "60000/60000 [==============================] - 5s 78us/step - loss: 0.1886 - val_loss: 0.1837\n",
      "Epoch 8/50\n",
      "60000/60000 [==============================] - 5s 79us/step - loss: 0.1819 - val_loss: 0.1775\n",
      "Epoch 9/50\n",
      "60000/60000 [==============================] - 5s 78us/step - loss: 0.1760 - val_loss: 0.1718\n",
      "Epoch 10/50\n",
      "60000/60000 [==============================] - 5s 81us/step - loss: 0.1705 - val_loss: 0.1667\n",
      "Epoch 11/50\n",
      "60000/60000 [==============================] - 5s 83us/step - loss: 0.1656 - val_loss: 0.1621\n",
      "Epoch 12/50\n",
      "60000/60000 [==============================] - 5s 82us/step - loss: 0.1611 - val_loss: 0.1577\n",
      "Epoch 13/50\n",
      "60000/60000 [==============================] - 6s 95us/step - loss: 0.1569 - val_loss: 0.1537\n",
      "Epoch 14/50\n",
      "60000/60000 [==============================] - 5s 82us/step - loss: 0.1532 - val_loss: 0.1502\n",
      "Epoch 15/50\n",
      "60000/60000 [==============================] - 5s 83us/step - loss: 0.1498 - val_loss: 0.1470\n",
      "Epoch 16/50\n",
      "60000/60000 [==============================] - 5s 81us/step - loss: 0.1467 - val_loss: 0.1439\n",
      "Epoch 17/50\n",
      "60000/60000 [==============================] - 5s 85us/step - loss: 0.1438 - val_loss: 0.1412\n",
      "Epoch 18/50\n",
      "60000/60000 [==============================] - 5s 82us/step - loss: 0.1412 - val_loss: 0.1386\n",
      "Epoch 19/50\n",
      "60000/60000 [==============================] - 5s 87us/step - loss: 0.1387 - val_loss: 0.1361\n",
      "Epoch 20/50\n",
      "60000/60000 [==============================] - 5s 84us/step - loss: 0.1363 - val_loss: 0.1337\n",
      "Epoch 21/50\n",
      "60000/60000 [==============================] - 5s 84us/step - loss: 0.1340 - val_loss: 0.1316\n",
      "Epoch 22/50\n",
      "60000/60000 [==============================] - 5s 86us/step - loss: 0.1319 - val_loss: 0.1296\n",
      "Epoch 23/50\n",
      "60000/60000 [==============================] - 5s 88us/step - loss: 0.1299 - val_loss: 0.1275\n",
      "Epoch 24/50\n",
      "60000/60000 [==============================] - 6s 95us/step - loss: 0.1279 - val_loss: 0.1255\n",
      "Epoch 25/50\n",
      "60000/60000 [==============================] - 6s 92us/step - loss: 0.1261 - val_loss: 0.1238\n",
      "Epoch 26/50\n",
      "60000/60000 [==============================] - 5s 87us/step - loss: 0.1243 - val_loss: 0.1220\n",
      "Epoch 27/50\n",
      "60000/60000 [==============================] - 6s 98us/step - loss: 0.1227 - val_loss: 0.1203\n",
      "Epoch 28/50\n",
      "60000/60000 [==============================] - 6s 92us/step - loss: 0.1211 - val_loss: 0.1187\n",
      "Epoch 29/50\n",
      "60000/60000 [==============================] - 7s 116us/step - loss: 0.1196 - val_loss: 0.1173\n",
      "Epoch 30/50\n",
      "60000/60000 [==============================] - 7s 117us/step - loss: 0.1182 - val_loss: 0.1160\n",
      "Epoch 31/50\n",
      "60000/60000 [==============================] - 7s 115us/step - loss: 0.1169 - val_loss: 0.1147\n",
      "Epoch 32/50\n",
      "60000/60000 [==============================] - 7s 118us/step - loss: 0.1157 - val_loss: 0.1135\n",
      "Epoch 33/50\n",
      "60000/60000 [==============================] - 6s 104us/step - loss: 0.1146 - val_loss: 0.1124\n",
      "Epoch 34/50\n",
      "60000/60000 [==============================] - 6s 98us/step - loss: 0.1135 - val_loss: 0.1114\n",
      "Epoch 35/50\n",
      "60000/60000 [==============================] - 5s 87us/step - loss: 0.1125 - val_loss: 0.1103\n",
      "Epoch 36/50\n",
      "60000/60000 [==============================] - 5s 90us/step - loss: 0.1116 - val_loss: 0.1094\n",
      "Epoch 37/50\n",
      "60000/60000 [==============================] - 5s 89us/step - loss: 0.1107 - val_loss: 0.1086\n",
      "Epoch 38/50\n",
      "60000/60000 [==============================] - 5s 90us/step - loss: 0.1099 - val_loss: 0.1079\n",
      "Epoch 39/50\n",
      "60000/60000 [==============================] - 5s 88us/step - loss: 0.1092 - val_loss: 0.1071\n",
      "Epoch 40/50\n",
      "60000/60000 [==============================] - 5s 90us/step - loss: 0.1085 - val_loss: 0.1064\n",
      "Epoch 41/50\n",
      "60000/60000 [==============================] - 5s 89us/step - loss: 0.1078 - val_loss: 0.1058\n",
      "Epoch 42/50\n",
      "60000/60000 [==============================] - 5s 89us/step - loss: 0.1072 - val_loss: 0.1053\n",
      "Epoch 43/50\n",
      "60000/60000 [==============================] - 5s 90us/step - loss: 0.1067 - val_loss: 0.1047\n",
      "Epoch 44/50\n",
      "60000/60000 [==============================] - 5s 89us/step - loss: 0.1062 - val_loss: 0.1042\n",
      "Epoch 45/50\n",
      "60000/60000 [==============================] - 6s 100us/step - loss: 0.1057 - val_loss: 0.1038\n",
      "Epoch 46/50\n",
      "60000/60000 [==============================] - 5s 90us/step - loss: 0.1053 - val_loss: 0.1034\n",
      "Epoch 47/50\n",
      "60000/60000 [==============================] - 5s 89us/step - loss: 0.1048 - val_loss: 0.1030\n",
      "Epoch 48/50\n",
      "60000/60000 [==============================] - 5s 89us/step - loss: 0.1045 - val_loss: 0.1026\n",
      "Epoch 49/50\n",
      "60000/60000 [==============================] - 5s 91us/step - loss: 0.1041 - val_loss: 0.1022.10\n",
      "Epoch 50/50\n",
      "60000/60000 [==============================] - 5s 88us/step - loss: 0.1038 - val_loss: 0.1019\n"
     ]
    },
    {
     "data": {
      "text/plain": [
       "<keras.callbacks.History at 0x20b10bf0eb8>"
      ]
     },
     "execution_count": 11,
     "metadata": {},
     "output_type": "execute_result"
    }
   ],
   "source": [
    "autoencoder.fit(x_train, x_train,\n",
    "                epochs=50,\n",
    "                batch_size=256,\n",
    "                shuffle=True,\n",
    "                validation_data=(x_test, x_test))"
   ]
  },
  {
   "cell_type": "markdown",
   "metadata": {},
   "source": [
    "## Running Autoencoder"
   ]
  },
  {
   "cell_type": "code",
   "execution_count": 12,
   "metadata": {},
   "outputs": [],
   "source": [
    "decoded_imgs = autoencoder.predict(x_test)"
   ]
  },
  {
   "cell_type": "markdown",
   "metadata": {},
   "source": [
    "## Draw Result"
   ]
  },
  {
   "cell_type": "code",
   "execution_count": 15,
   "metadata": {},
   "outputs": [
    {
     "data": {
      "image/png": "[encoded data removed]",
      "text/plain": [
       "<Figure size 1440x288 with 20 Axes>"
      ]
     },
     "metadata": {
      "needs_background": "light"
     },
     "output_type": "display_data"
    }
   ],
   "source": [
    "%matplotlib inline\n",
    "import matplotlib.pyplot as plt\n",
    "\n",
    "n = 10\n",
    "plt.figure(figsize=(20,4))\n",
    "for i in range(n):\n",
    "    # original\n",
    "    ax = plt.subplot(2, n, i + 1)\n",
    "    plt.imshow(x_test[i].reshape(28, 28))\n",
    "    plt.gray()\n",
    "    \n",
    "    ax.get_xaxis().set_visible(False)\n",
    "    ax.get_yaxis().set_visible(False)\n",
    "    \n",
    "    # result\n",
    "    ax = plt.subplot(2, n, i + 1 + n)\n",
    "    plt.imshow(decoded_imgs[i].reshape(28, 28))\n",
    "    plt.gray()\n",
    "    \n",
    "    ax.get_xaxis().set_visible(False)\n",
    "    ax.get_yaxis().set_visible(False)\n",
    "    \n",
    "plt.show()"
   ]
  },
  {
   "cell_type": "code",
   "execution_count": null,
   "metadata": {},
   "outputs": [],
   "source": []
  }
 ],
 "metadata": {
  "kernelspec": {
   "display_name": "Python 3",
   "language": "python",
   "name": "python3"
  },
  "language_info": {
   "codemirror_mode": {
    "name": "ipython",
    "version": 3
   },
   "file_extension": ".py",
   "mimetype": "text/x-python",
   "name": "python",
   "nbconvert_exporter": "python",
   "pygments_lexer": "ipython3",
   "version": "3.7.3"
  }
 },
 "nbformat": 4,
 "nbformat_minor": 4
}
