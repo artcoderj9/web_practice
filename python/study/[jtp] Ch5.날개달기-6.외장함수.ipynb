{
 "cells": [
  {
   "cell_type": "markdown",
   "metadata": {},
   "source": [
    "## Standard Library\n",
    "sys\n",
    "pickle\n",
    "os\n",
    "shutil\n",
    "glob\n",
    "tempfile\n",
    "time\n",
    "calendar\n",
    "random\n",
    "webbrowser"
   ]
  },
  {
   "cell_type": "markdown",
   "metadata": {},
   "source": [
    "### sys"
   ]
  },
  {
   "cell_type": "markdown",
   "metadata": {},
   "source": [
    "#### sys.argv\n",
    "~~~\n",
    "# argv_test.py\n",
    "import sys\n",
    "print(sys.argv)\n",
    "~~~"
   ]
  },
  {
   "cell_type": "code",
   "execution_count": 3,
   "metadata": {},
   "outputs": [
    {
     "name": "stdout",
     "output_type": "stream",
     "text": [
      "['argv_test.py', 'you', 'need', 'python']\n"
     ]
    }
   ],
   "source": [
    "%run argv_test.py you need python"
   ]
  },
  {
   "cell_type": "markdown",
   "metadata": {},
   "source": [
    "#### sys.exit\n",
    "* 대화형 인터프리터 종료"
   ]
  },
  {
   "cell_type": "markdown",
   "metadata": {},
   "source": [
    "#### sys.path"
   ]
  },
  {
   "cell_type": "code",
   "execution_count": 4,
   "metadata": {},
   "outputs": [
    {
     "data": {
      "text/plain": [
       "['D:\\\\MyPractice\\\\coding_practice\\\\python\\\\study',\n",
       " 'C:\\\\ProgramData\\\\Anaconda3\\\\python37.zip',\n",
       " 'C:\\\\ProgramData\\\\Anaconda3\\\\DLLs',\n",
       " 'C:\\\\ProgramData\\\\Anaconda3\\\\lib',\n",
       " 'C:\\\\ProgramData\\\\Anaconda3',\n",
       " '',\n",
       " 'C:\\\\ProgramData\\\\Anaconda3\\\\lib\\\\site-packages',\n",
       " 'C:\\\\ProgramData\\\\Anaconda3\\\\lib\\\\site-packages\\\\win32',\n",
       " 'C:\\\\ProgramData\\\\Anaconda3\\\\lib\\\\site-packages\\\\win32\\\\lib',\n",
       " 'C:\\\\ProgramData\\\\Anaconda3\\\\lib\\\\site-packages\\\\Pythonwin',\n",
       " 'C:\\\\ProgramData\\\\Anaconda3\\\\lib\\\\site-packages\\\\IPython\\\\extensions',\n",
       " 'C:\\\\Users\\\\User\\\\.ipython']"
      ]
     },
     "execution_count": 4,
     "metadata": {},
     "output_type": "execute_result"
    }
   ],
   "source": [
    "import sys\n",
    "sys.path"
   ]
  },
  {
   "cell_type": "markdown",
   "metadata": {},
   "source": [
    "### pickle"
   ]
  },
  {
   "cell_type": "code",
   "execution_count": 5,
   "metadata": {},
   "outputs": [
    {
     "name": "stdout",
     "output_type": "stream",
     "text": [
      "{1: 'python', 2: 'you need'}\n"
     ]
    }
   ],
   "source": [
    "import pickle\n",
    "\n",
    "data = {1:'python', 2: 'you need'}\n",
    "\n",
    "# dump\n",
    "f = open('dump.txt', 'wb')\n",
    "pickle.dump(data,f)\n",
    "f.close()\n",
    "\n",
    "# restore\n",
    "f = open('dump.txt', 'rb')\n",
    "data2 = pickle.load(f)\n",
    "f.close()\n",
    "\n",
    "print(data2)"
   ]
  },
  {
   "cell_type": "markdown",
   "metadata": {},
   "source": [
    "### os"
   ]
  },
  {
   "cell_type": "markdown",
   "metadata": {},
   "source": [
    "#### os.environ"
   ]
  },
  {
   "cell_type": "code",
   "execution_count": 6,
   "metadata": {},
   "outputs": [
    {
     "data": {
      "text/plain": [
       "environ{'ALLUSERSPROFILE': 'C:\\\\ProgramData',\n",
       "        'APPDATA': 'C:\\\\Users\\\\User\\\\AppData\\\\Roaming',\n",
       "        'COMMONPROGRAMFILES': 'C:\\\\Program Files\\\\Common Files',\n",
       "        'COMMONPROGRAMFILES(X86)': 'C:\\\\Program Files (x86)\\\\Common Files',\n",
       "        'COMMONPROGRAMW6432': 'C:\\\\Program Files\\\\Common Files',\n",
       "        'COMPUTERNAME': 'HS-JHJEONG-PC',\n",
       "        'COMSPEC': 'C:\\\\WINDOWS\\\\system32\\\\cmd.exe',\n",
       "        'CONDA_DEFAULT_ENV': 'base',\n",
       "        'CONDA_EXE': 'C:\\\\ProgramData\\\\Anaconda3\\\\Scripts\\\\conda.exe',\n",
       "        'CONDA_PREFIX': 'C:\\\\ProgramData\\\\Anaconda3',\n",
       "        'CONDA_PROMPT_MODIFIER': '(base) ',\n",
       "        'CONDA_PYTHON_EXE': 'C:\\\\ProgramData\\\\Anaconda3\\\\python.exe',\n",
       "        'CONDA_SHLVL': '1',\n",
       "        'DRIVERDATA': 'C:\\\\Windows\\\\System32\\\\Drivers\\\\DriverData',\n",
       "        'FPS_BROWSER_APP_PROFILE_STRING': 'Internet Explorer',\n",
       "        'FPS_BROWSER_USER_PROFILE_STRING': 'Default',\n",
       "        'HOMEDRIVE': 'C:',\n",
       "        'HOMEPATH': '\\\\Users\\\\User',\n",
       "        'LOCALAPPDATA': 'C:\\\\Users\\\\User\\\\AppData\\\\Local',\n",
       "        'LOGONSERVER': '\\\\\\\\HS-JHJEONG-PC',\n",
       "        'NUMBER_OF_PROCESSORS': '4',\n",
       "        'ONEDRIVE': 'C:\\\\Users\\\\User\\\\OneDrive',\n",
       "        'OS': 'Windows_NT',\n",
       "        'PATH': 'C:\\\\ProgramData\\\\Anaconda3;C:\\\\ProgramData\\\\Anaconda3\\\\Library\\\\mingw-w64\\\\bin;C:\\\\ProgramData\\\\Anaconda3\\\\Library\\\\usr\\\\bin;C:\\\\ProgramData\\\\Anaconda3\\\\Library\\\\bin;C:\\\\ProgramData\\\\Anaconda3\\\\Scripts;C:\\\\ProgramData\\\\Anaconda3\\\\bin;C:\\\\ProgramData\\\\Anaconda3\\\\condabin;C:\\\\Program Files (x86)\\\\Common Files\\\\Oracle\\\\Java\\\\javapath;C:\\\\Windows\\\\system32;C:\\\\Windows;C:\\\\Windows\\\\System32\\\\Wbem;C:\\\\Windows\\\\System32\\\\WindowsPowerShell\\\\v1.0;C:\\\\Windows\\\\System32\\\\OpenSSH;C:\\\\Program Files (x86)\\\\NVIDIA Corporation\\\\PhysX\\\\Common;C:\\\\Program Files\\\\Microsoft SQL Server\\\\130\\\\Tools\\\\Binn;C:\\\\Program Files\\\\Microsoft\\\\Web Platform Installer;C:\\\\Program Files\\\\dotnet;C:\\\\Program Files (x86)\\\\Microsoft SQL Server\\\\110\\\\DTS\\\\Binn;C:\\\\Program Files (x86)\\\\Microsoft SQL Server\\\\120\\\\DTS\\\\Binn;C:\\\\Program Files (x86)\\\\Microsoft SQL Server\\\\130\\\\DTS\\\\Binn;C:\\\\Program Files (x86)\\\\Microsoft SQL Server\\\\140\\\\DTS\\\\Binn;C:\\\\Program Files\\\\Microsoft VS Code\\\\bin;C:\\\\Program Files\\\\NVIDIA Corporation\\\\NVIDIA NvDLISR;C:\\\\WINDOWS\\\\system32;C:\\\\WINDOWS;C:\\\\WINDOWS\\\\System32\\\\Wbem;C:\\\\WINDOWS\\\\System32\\\\WindowsPowerShell\\\\v1.0;C:\\\\WINDOWS\\\\System32\\\\OpenSSH;C:\\\\Program Files\\\\TortoiseGit\\\\bin;C:\\\\Program Files\\\\Calibre2;C:\\\\Program Files\\\\CMake\\\\bin;C:\\\\Program Files\\\\Git\\\\cmd;C:\\\\Users\\\\User\\\\AppData\\\\Local\\\\Microsoft\\\\WindowsApps;.',\n",
       "        'PATHEXT': '.COM;.EXE;.BAT;.CMD;.VBS;.VBE;.JS;.JSE;.WSF;.WSH;.MSC;.CPL',\n",
       "        'PROCESSOR_ARCHITECTURE': 'AMD64',\n",
       "        'PROCESSOR_IDENTIFIER': 'Intel64 Family 6 Model 158 Stepping 9, GenuineIntel',\n",
       "        'PROCESSOR_LEVEL': '6',\n",
       "        'PROCESSOR_REVISION': '9e09',\n",
       "        'PROGRAMDATA': 'C:\\\\ProgramData',\n",
       "        'PROGRAMFILES': 'C:\\\\Program Files',\n",
       "        'PROGRAMFILES(X86)': 'C:\\\\Program Files (x86)',\n",
       "        'PROGRAMW6432': 'C:\\\\Program Files',\n",
       "        'PSEXECUTIONPOLICYPREFERENCE': 'Bypass',\n",
       "        'PSMODULEPATH': 'C:\\\\Users\\\\User\\\\Documents\\\\WindowsPowerShell\\\\Modules;C:\\\\Program Files\\\\WindowsPowerShell\\\\Modules;C:\\\\WINDOWS\\\\system32\\\\WindowsPowerShell\\\\v1.0\\\\Modules',\n",
       "        'PUBLIC': 'C:\\\\Users\\\\Public',\n",
       "        'QTMSBUILD': 'C:\\\\Users\\\\User\\\\AppData\\\\Local\\\\QtMsBuild',\n",
       "        'SESSIONNAME': 'Console',\n",
       "        'SYSTEMDRIVE': 'C:',\n",
       "        'SYSTEMROOT': 'C:\\\\WINDOWS',\n",
       "        'TEMP': 'C:\\\\Users\\\\User\\\\AppData\\\\Local\\\\Temp',\n",
       "        'TMP': 'C:\\\\Users\\\\User\\\\AppData\\\\Local\\\\Temp',\n",
       "        'USERDOMAIN': 'HS-JHJEONG-PC',\n",
       "        'USERDOMAIN_ROAMINGPROFILE': 'HS-JHJEONG-PC',\n",
       "        'USERNAME': 'User',\n",
       "        'USERPROFILE': 'C:\\\\Users\\\\User',\n",
       "        'VS140COMNTOOLS': 'C:\\\\Program Files (x86)\\\\Microsoft Visual Studio 14.0\\\\Common7\\\\Tools\\\\',\n",
       "        'VSSDK140INSTALL': 'C:\\\\Program Files (x86)\\\\Microsoft Visual Studio 14.0\\\\VSSDK\\\\',\n",
       "        'WINDIR': 'C:\\\\WINDOWS',\n",
       "        '_CONDA_EXE': 'C:/ProgramData/Anaconda3\\\\Scripts\\\\conda.exe',\n",
       "        '_CONDA_ROOT': 'C:/ProgramData/Anaconda3',\n",
       "        'KERNEL_LAUNCH_TIMEOUT': '40',\n",
       "        'JPY_INTERRUPT_EVENT': '5348',\n",
       "        'IPY_INTERRUPT_EVENT': '5348',\n",
       "        'JPY_PARENT_PID': '5340',\n",
       "        'TERM': 'xterm-color',\n",
       "        'CLICOLOR': '1',\n",
       "        'PAGER': 'cat',\n",
       "        'GIT_PAGER': 'cat',\n",
       "        'MPLBACKEND': 'module://ipykernel.pylab.backend_inline'}"
      ]
     },
     "execution_count": 6,
     "metadata": {},
     "output_type": "execute_result"
    }
   ],
   "source": [
    "import os\n",
    "os.environ"
   ]
  },
  {
   "cell_type": "code",
   "execution_count": 7,
   "metadata": {},
   "outputs": [
    {
     "data": {
      "text/plain": [
       "'C:\\\\ProgramData\\\\Anaconda3;C:\\\\ProgramData\\\\Anaconda3\\\\Library\\\\mingw-w64\\\\bin;C:\\\\ProgramData\\\\Anaconda3\\\\Library\\\\usr\\\\bin;C:\\\\ProgramData\\\\Anaconda3\\\\Library\\\\bin;C:\\\\ProgramData\\\\Anaconda3\\\\Scripts;C:\\\\ProgramData\\\\Anaconda3\\\\bin;C:\\\\ProgramData\\\\Anaconda3\\\\condabin;C:\\\\Program Files (x86)\\\\Common Files\\\\Oracle\\\\Java\\\\javapath;C:\\\\Windows\\\\system32;C:\\\\Windows;C:\\\\Windows\\\\System32\\\\Wbem;C:\\\\Windows\\\\System32\\\\WindowsPowerShell\\\\v1.0;C:\\\\Windows\\\\System32\\\\OpenSSH;C:\\\\Program Files (x86)\\\\NVIDIA Corporation\\\\PhysX\\\\Common;C:\\\\Program Files\\\\Microsoft SQL Server\\\\130\\\\Tools\\\\Binn;C:\\\\Program Files\\\\Microsoft\\\\Web Platform Installer;C:\\\\Program Files\\\\dotnet;C:\\\\Program Files (x86)\\\\Microsoft SQL Server\\\\110\\\\DTS\\\\Binn;C:\\\\Program Files (x86)\\\\Microsoft SQL Server\\\\120\\\\DTS\\\\Binn;C:\\\\Program Files (x86)\\\\Microsoft SQL Server\\\\130\\\\DTS\\\\Binn;C:\\\\Program Files (x86)\\\\Microsoft SQL Server\\\\140\\\\DTS\\\\Binn;C:\\\\Program Files\\\\Microsoft VS Code\\\\bin;C:\\\\Program Files\\\\NVIDIA Corporation\\\\NVIDIA NvDLISR;C:\\\\WINDOWS\\\\system32;C:\\\\WINDOWS;C:\\\\WINDOWS\\\\System32\\\\Wbem;C:\\\\WINDOWS\\\\System32\\\\WindowsPowerShell\\\\v1.0;C:\\\\WINDOWS\\\\System32\\\\OpenSSH;C:\\\\Program Files\\\\TortoiseGit\\\\bin;C:\\\\Program Files\\\\Calibre2;C:\\\\Program Files\\\\CMake\\\\bin;C:\\\\Program Files\\\\Git\\\\cmd;C:\\\\Users\\\\User\\\\AppData\\\\Local\\\\Microsoft\\\\WindowsApps;.'"
      ]
     },
     "execution_count": 7,
     "metadata": {},
     "output_type": "execute_result"
    }
   ],
   "source": [
    "os.environ['PATH']"
   ]
  },
  {
   "cell_type": "markdown",
   "metadata": {},
   "source": [
    "#### os.chdir, os.getcwd"
   ]
  },
  {
   "cell_type": "code",
   "execution_count": 12,
   "metadata": {},
   "outputs": [
    {
     "name": "stdout",
     "output_type": "stream",
     "text": [
      "D:\\MyPractice\\coding_practice\\python\\study\n",
      "C:\\program files\n",
      "D:\\MyPractice\\coding_practice\\python\\study\n"
     ]
    }
   ],
   "source": [
    "import os\n",
    "\n",
    "cwd = os.getcwd()\n",
    "print(cwd)\n",
    "\n",
    "os.chdir(\"C:/program files\")\n",
    "print(os.getcwd())\n",
    "\n",
    "os.chdir(cwd)\n",
    "print(os.getcwd())"
   ]
  },
  {
   "cell_type": "markdown",
   "metadata": {},
   "source": [
    "#### os.system\n",
    "~~~\n",
    "import os\n",
    "os.system(\"dir\")\n",
    "~~~"
   ]
  },
  {
   "cell_type": "markdown",
   "metadata": {},
   "source": [
    "#### os.popen"
   ]
  },
  {
   "cell_type": "code",
   "execution_count": 15,
   "metadata": {},
   "outputs": [
    {
     "name": "stdout",
     "output_type": "stream",
     "text": [
      " D 드라이브의 볼륨: WORK\n",
      " 볼륨 일련 번호: 0C01-61CB\n",
      "\n",
      " D:\\MyPractice\\coding_practice\\python\\study 디렉터리\n",
      "\n",
      "2019-08-22  오후 05:42    <DIR>          .\n",
      "2019-08-22  오후 05:42    <DIR>          ..\n",
      "2019-08-22  오후 05:30    <DIR>          .ipynb_checkpoints\n",
      "2019-08-22  오후 05:30                42 argv_test.py\n",
      "2019-08-22  오후 02:51             3,662 Built-in Functions.ipynb\n",
      "2019-08-22  오후 12:01    <DIR>          data\n",
      "2019-08-22  오후 05:35                40 dump.txt\n",
      "2019-08-22  오후 01:39                 9 foo.txt\n",
      "2019-08-09  오후 05:23             1,256 HelloWorld.ipynb\n",
      "2019-08-21  오전 10:33                81 mod1.py\n",
      "2019-08-21  오전 10:33               153 mod2.py\n",
      "2019-08-21  오전 10:33               117 mod3.py\n",
      "2019-08-21  오전 10:33               133 mod4.py\n",
      "2019-08-21  오전 10:33                78 mod4_import.py\n",
      "2019-08-22  오후 12:12    <DIR>          pkg_game\n",
      "2019-08-21  오전 10:33             2,186 Reference.ipynb\n",
      "2019-08-21  오전 10:33             2,783 [jtp] Ch2.자료형-1.숫자형.ipynb\n",
      "2019-08-21  오전 10:33            18,960 [jtp] Ch2.자료형-2.문자열.ipynb\n",
      "2019-08-21  오전 10:33            11,488 [jtp] Ch2.자료형-3.리스트.ipynb\n",
      "2019-08-21  오전 10:33             5,621 [jtp] Ch2.자료형-4.튜플.ipynb\n",
      "2019-08-21  오전 10:33             9,960 [jtp] Ch2.자료형-5.딕셔너리.ipynb\n",
      "2019-08-21  오전 10:33             3,570 [jtp] Ch2.자료형-6.집합.ipynb\n",
      "2019-08-21  오전 10:33             3,353 [jtp] Ch2.자료형-7.불.ipynb\n",
      "2019-08-21  오전 10:33             3,514 [jtp] Ch2.자료형-9.변수.ipynb\n",
      "2019-08-14  오후 08:37             5,613 [jtp] Ch2.자료형-연습문제.ipynb\n",
      "2019-08-21  오전 10:33             6,401 [jtp] Ch3.제어문-1.if문.ipynb\n",
      "2019-08-21  오전 10:33             6,867 [jtp] Ch3.제어문-2.while문.ipynb\n",
      "2019-08-21  오전 10:33             6,721 [jtp] Ch3.제어문-3.for문.ipynb\n",
      "2019-08-16  오후 07:22             3,746 [jtp] Ch3.제어문-연습문제.ipynb\n",
      "2019-08-21  오전 10:33             7,734 [jtp] Ch4.입력출력-1.함수.ipynb\n",
      "2019-08-21  오전 10:33             3,295 [jtp] Ch4.입력출력-2.사용자입력출력.ipynb\n",
      "2019-08-21  오전 10:33             5,640 [jtp] Ch4.입력출력-3.파일읽고쓰기.ipynb\n",
      "2019-08-21  오전 10:33             4,536 [jtp] Ch4.입력출력-연습문제.ipynb\n",
      "2019-08-22  오전 11:50             6,719 [jtp] Ch5.날개달기-1.클래스.ipynb\n",
      "2019-08-22  오후 12:06             8,528 [jtp] Ch5.날개달기-2.모듈.ipynb\n",
      "2019-08-22  오후 12:12             6,160 [jtp] Ch5.날개달기-3.패키지.ipynb\n",
      "2019-08-22  오후 02:05            14,023 [jtp] Ch5.날개달기-4.예외처리.ipynb\n",
      "2019-08-22  오후 04:34            15,944 [jtp] Ch5.날개달기-5.내장함수.ipynb\n",
      "2019-08-22  오후 05:42            12,459 [jtp] Ch5.날개달기-6.외장함수.ipynb\n",
      "2019-08-22  오전 11:55    <DIR>          __pycache__\n",
      "              34개 파일             181,392 바이트\n",
      "               6개 디렉터리  1,785,254,277,120 바이트 남음\n",
      "\n"
     ]
    }
   ],
   "source": [
    "f = os.popen(\"dir\")\n",
    "print(f.read())"
   ]
  },
  {
   "cell_type": "markdown",
   "metadata": {},
   "source": [
    "#### etc\n",
    "* os.mkdir\n",
    "* os.rmdir\n",
    "* os.unlink\n",
    "* os.rename(src, dst)"
   ]
  },
  {
   "cell_type": "markdown",
   "metadata": {},
   "source": [
    "### shutil"
   ]
  },
  {
   "cell_type": "code",
   "execution_count": 16,
   "metadata": {},
   "outputs": [
    {
     "data": {
      "text/plain": [
       "'dst.txt'"
      ]
     },
     "execution_count": 16,
     "metadata": {},
     "output_type": "execute_result"
    }
   ],
   "source": [
    "import shutil\n",
    "shutil.copy(\"foo.txt\",\"dst.txt\")"
   ]
  },
  {
   "cell_type": "markdown",
   "metadata": {},
   "source": [
    "### glob"
   ]
  },
  {
   "cell_type": "code",
   "execution_count": 17,
   "metadata": {},
   "outputs": [
    {
     "data": {
      "text/plain": [
       "['D:\\\\MyPractice\\\\coding_practice\\\\python\\\\study\\\\Built-in Functions.ipynb',\n",
       " 'D:\\\\MyPractice\\\\coding_practice\\\\python\\\\study\\\\HelloWorld.ipynb',\n",
       " 'D:\\\\MyPractice\\\\coding_practice\\\\python\\\\study\\\\Reference.ipynb',\n",
       " 'D:\\\\MyPractice\\\\coding_practice\\\\python\\\\study\\\\[jtp] Ch2.자료형-1.숫자형.ipynb',\n",
       " 'D:\\\\MyPractice\\\\coding_practice\\\\python\\\\study\\\\[jtp] Ch2.자료형-2.문자열.ipynb',\n",
       " 'D:\\\\MyPractice\\\\coding_practice\\\\python\\\\study\\\\[jtp] Ch2.자료형-3.리스트.ipynb',\n",
       " 'D:\\\\MyPractice\\\\coding_practice\\\\python\\\\study\\\\[jtp] Ch2.자료형-4.튜플.ipynb',\n",
       " 'D:\\\\MyPractice\\\\coding_practice\\\\python\\\\study\\\\[jtp] Ch2.자료형-5.딕셔너리.ipynb',\n",
       " 'D:\\\\MyPractice\\\\coding_practice\\\\python\\\\study\\\\[jtp] Ch2.자료형-6.집합.ipynb',\n",
       " 'D:\\\\MyPractice\\\\coding_practice\\\\python\\\\study\\\\[jtp] Ch2.자료형-7.불.ipynb',\n",
       " 'D:\\\\MyPractice\\\\coding_practice\\\\python\\\\study\\\\[jtp] Ch2.자료형-9.변수.ipynb',\n",
       " 'D:\\\\MyPractice\\\\coding_practice\\\\python\\\\study\\\\[jtp] Ch2.자료형-연습문제.ipynb',\n",
       " 'D:\\\\MyPractice\\\\coding_practice\\\\python\\\\study\\\\[jtp] Ch3.제어문-1.if문.ipynb',\n",
       " 'D:\\\\MyPractice\\\\coding_practice\\\\python\\\\study\\\\[jtp] Ch3.제어문-2.while문.ipynb',\n",
       " 'D:\\\\MyPractice\\\\coding_practice\\\\python\\\\study\\\\[jtp] Ch3.제어문-3.for문.ipynb',\n",
       " 'D:\\\\MyPractice\\\\coding_practice\\\\python\\\\study\\\\[jtp] Ch3.제어문-연습문제.ipynb',\n",
       " 'D:\\\\MyPractice\\\\coding_practice\\\\python\\\\study\\\\[jtp] Ch4.입력출력-1.함수.ipynb',\n",
       " 'D:\\\\MyPractice\\\\coding_practice\\\\python\\\\study\\\\[jtp] Ch4.입력출력-2.사용자입력출력.ipynb',\n",
       " 'D:\\\\MyPractice\\\\coding_practice\\\\python\\\\study\\\\[jtp] Ch4.입력출력-3.파일읽고쓰기.ipynb',\n",
       " 'D:\\\\MyPractice\\\\coding_practice\\\\python\\\\study\\\\[jtp] Ch4.입력출력-연습문제.ipynb',\n",
       " 'D:\\\\MyPractice\\\\coding_practice\\\\python\\\\study\\\\[jtp] Ch5.날개달기-1.클래스.ipynb',\n",
       " 'D:\\\\MyPractice\\\\coding_practice\\\\python\\\\study\\\\[jtp] Ch5.날개달기-2.모듈.ipynb',\n",
       " 'D:\\\\MyPractice\\\\coding_practice\\\\python\\\\study\\\\[jtp] Ch5.날개달기-3.패키지.ipynb',\n",
       " 'D:\\\\MyPractice\\\\coding_practice\\\\python\\\\study\\\\[jtp] Ch5.날개달기-4.예외처리.ipynb',\n",
       " 'D:\\\\MyPractice\\\\coding_practice\\\\python\\\\study\\\\[jtp] Ch5.날개달기-5.내장함수.ipynb',\n",
       " 'D:\\\\MyPractice\\\\coding_practice\\\\python\\\\study\\\\[jtp] Ch5.날개달기-6.외장함수.ipynb']"
      ]
     },
     "execution_count": 17,
     "metadata": {},
     "output_type": "execute_result"
    }
   ],
   "source": [
    "import glob\n",
    "import os\n",
    "\n",
    "dir_name = os.getcwd() + \"/*.ipynb\"\n",
    "glob.glob(dir_name)"
   ]
  },
  {
   "cell_type": "markdown",
   "metadata": {},
   "source": [
    "### tempfile"
   ]
  },
  {
   "cell_type": "code",
   "execution_count": 25,
   "metadata": {},
   "outputs": [
    {
     "name": "stdout",
     "output_type": "stream",
     "text": [
      "C:\\Users\\User\\AppData\\Local\\Temp\\tmp7kyjskrn\n",
      "C:\\Users\\User\\AppData\\Local\\Temp\\tmpoo5hrghb\n"
     ]
    },
    {
     "ename": "FileNotFoundError",
     "evalue": "[Errno 2] No such file or directory: 'C:\\\\Users\\\\User\\\\AppData\\\\Local\\\\Temp\\\\tmpoo5hrghb'",
     "output_type": "error",
     "traceback": [
      "\u001b[1;31m---------------------------------------------------------------------------\u001b[0m",
      "\u001b[1;31mFileNotFoundError\u001b[0m                         Traceback (most recent call last)",
      "\u001b[1;32m<ipython-input-25-003139924dcc>\u001b[0m in \u001b[0;36m<module>\u001b[1;34m\u001b[0m\n\u001b[0;32m      9\u001b[0m \u001b[0mf\u001b[0m\u001b[1;33m.\u001b[0m\u001b[0mclose\u001b[0m\u001b[1;33m(\u001b[0m\u001b[1;33m)\u001b[0m \u001b[1;31m# file deleted\u001b[0m\u001b[1;33m\u001b[0m\u001b[1;33m\u001b[0m\u001b[0m\n\u001b[0;32m     10\u001b[0m \u001b[1;33m\u001b[0m\u001b[0m\n\u001b[1;32m---> 11\u001b[1;33m \u001b[0mf2\u001b[0m \u001b[1;33m=\u001b[0m \u001b[0mopen\u001b[0m\u001b[1;33m(\u001b[0m\u001b[0mfilename\u001b[0m\u001b[1;33m)\u001b[0m\u001b[1;33m\u001b[0m\u001b[1;33m\u001b[0m\u001b[0m\n\u001b[0m\u001b[0;32m     12\u001b[0m \u001b[0mf2\u001b[0m\u001b[1;33m.\u001b[0m\u001b[0mclose\u001b[0m\u001b[1;33m(\u001b[0m\u001b[1;33m)\u001b[0m\u001b[1;33m\u001b[0m\u001b[1;33m\u001b[0m\u001b[0m\n",
      "\u001b[1;31mFileNotFoundError\u001b[0m: [Errno 2] No such file or directory: 'C:\\\\Users\\\\User\\\\AppData\\\\Local\\\\Temp\\\\tmpoo5hrghb'"
     ]
    }
   ],
   "source": [
    "import tempfile\n",
    "\n",
    "filename = tempfile.mktemp()\n",
    "print(filename)\n",
    "\n",
    "f = tempfile.TemporaryFile()\n",
    "filename = f.name\n",
    "print(filename)\n",
    "f.close() # file deleted\n",
    "\n",
    "f2 = open(filename)\n",
    "f2.close()"
   ]
  },
  {
   "cell_type": "markdown",
   "metadata": {},
   "source": [
    "### time"
   ]
  },
  {
   "cell_type": "markdown",
   "metadata": {},
   "source": [
    "#### time.time"
   ]
  },
  {
   "cell_type": "markdown",
   "metadata": {},
   "source": [
    "#### time.localtime"
   ]
  },
  {
   "cell_type": "markdown",
   "metadata": {},
   "source": [
    "#### time.asctime"
   ]
  },
  {
   "cell_type": "markdown",
   "metadata": {},
   "source": [
    "#### time.ctime"
   ]
  },
  {
   "cell_type": "markdown",
   "metadata": {},
   "source": [
    "#### time.strtime"
   ]
  },
  {
   "cell_type": "markdown",
   "metadata": {},
   "source": [
    "#### time.sleep"
   ]
  },
  {
   "cell_type": "markdown",
   "metadata": {},
   "source": [
    "### calendar"
   ]
  },
  {
   "cell_type": "markdown",
   "metadata": {},
   "source": [
    "#### calendar.calendar"
   ]
  },
  {
   "cell_type": "markdown",
   "metadata": {},
   "source": [
    "#### calendar.weekday"
   ]
  },
  {
   "cell_type": "markdown",
   "metadata": {},
   "source": [
    "#### calendar.monthrange"
   ]
  },
  {
   "cell_type": "markdown",
   "metadata": {},
   "source": [
    "### random"
   ]
  },
  {
   "cell_type": "markdown",
   "metadata": {},
   "source": [
    "### webbrowser"
   ]
  },
  {
   "cell_type": "markdown",
   "metadata": {},
   "source": [
    "### threading"
   ]
  },
  {
   "cell_type": "code",
   "execution_count": null,
   "metadata": {},
   "outputs": [],
   "source": []
  }
 ],
 "metadata": {
  "kernelspec": {
   "display_name": "Python 3",
   "language": "python",
   "name": "python3"
  },
  "language_info": {
   "codemirror_mode": {
    "name": "ipython",
    "version": 3
   },
   "file_extension": ".py",
   "mimetype": "text/x-python",
   "name": "python",
   "nbconvert_exporter": "python",
   "pygments_lexer": "ipython3",
   "version": "3.7.3"
  }
 },
 "nbformat": 4,
 "nbformat_minor": 4
}
