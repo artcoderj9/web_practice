{
 "cells": [
  {
   "cell_type": "markdown",
   "metadata": {},
   "source": [
    "## Q1"
   ]
  },
  {
   "cell_type": "code",
   "execution_count": 1,
   "metadata": {},
   "outputs": [
    {
     "name": "stdout",
     "output_type": "stream",
     "text": [
      "3\n"
     ]
    }
   ],
   "source": [
    "class Calculator:\n",
    "    def __init__(self):\n",
    "        self.value = 0\n",
    "        \n",
    "    def add(self, val):\n",
    "        self.value += val\n",
    "\n",
    "class UpgradeCalculator(Calculator):\n",
    "    def minus(self, val):\n",
    "        self.value -= val\n",
    "\n",
    "cal = UpgradeCalculator()\n",
    "cal.add(10)\n",
    "cal.minus(7)\n",
    "\n",
    "print(cal.value)"
   ]
  },
  {
   "cell_type": "markdown",
   "metadata": {},
   "source": [
    "## Q2"
   ]
  },
  {
   "cell_type": "code",
   "execution_count": 2,
   "metadata": {},
   "outputs": [
    {
     "name": "stdout",
     "output_type": "stream",
     "text": [
      "100\n"
     ]
    }
   ],
   "source": [
    "%reset -f\n",
    "\n",
    "class Calculator:\n",
    "    def __init__(self):\n",
    "        self.value = 0\n",
    "        \n",
    "    def add(self, val):\n",
    "        self.value += val\n",
    "        \n",
    "class MaxLimitCalculaor(Calculator):\n",
    "    def add(self, val):\n",
    "        super().add(val)\n",
    "        if self.value > 100:\n",
    "            self.value = 100\n",
    "\n",
    "cal = MaxLimitCalculaor()\n",
    "cal.add(50)\n",
    "cal.add(60)\n",
    "\n",
    "print(cal.value)"
   ]
  },
  {
   "cell_type": "markdown",
   "metadata": {},
   "source": [
    "## Q3"
   ]
  },
  {
   "cell_type": "code",
   "execution_count": 4,
   "metadata": {},
   "outputs": [
    {
     "data": {
      "text/plain": [
       "False"
      ]
     },
     "execution_count": 4,
     "metadata": {},
     "output_type": "execute_result"
    }
   ],
   "source": [
    "all([1, 2, abs(-3)-3])"
   ]
  },
  {
   "cell_type": "code",
   "execution_count": 5,
   "metadata": {},
   "outputs": [
    {
     "data": {
      "text/plain": [
       "True"
      ]
     },
     "execution_count": 5,
     "metadata": {},
     "output_type": "execute_result"
    }
   ],
   "source": [
    "chr(ord('a')) == 'a'"
   ]
  },
  {
   "cell_type": "markdown",
   "metadata": {},
   "source": [
    "## Q4"
   ]
  },
  {
   "cell_type": "code",
   "execution_count": 6,
   "metadata": {},
   "outputs": [
    {
     "data": {
      "text/plain": [
       "[1, 3, 8]"
      ]
     },
     "execution_count": 6,
     "metadata": {},
     "output_type": "execute_result"
    }
   ],
   "source": [
    "list(filter(lambda a: a > 0, [1, -2, 3, -5, 8, -3]))"
   ]
  },
  {
   "cell_type": "markdown",
   "metadata": {},
   "source": [
    "## Q5"
   ]
  },
  {
   "cell_type": "code",
   "execution_count": 8,
   "metadata": {},
   "outputs": [
    {
     "data": {
      "text/plain": [
       "234"
      ]
     },
     "execution_count": 8,
     "metadata": {},
     "output_type": "execute_result"
    }
   ],
   "source": [
    "int('ea', 16)"
   ]
  },
  {
   "cell_type": "markdown",
   "metadata": {},
   "source": [
    "## Q6"
   ]
  },
  {
   "cell_type": "code",
   "execution_count": 2,
   "metadata": {},
   "outputs": [
    {
     "data": {
      "text/plain": [
       "[3, 6, 9, 12]"
      ]
     },
     "execution_count": 2,
     "metadata": {},
     "output_type": "execute_result"
    }
   ],
   "source": [
    "list(map(lambda x:x*3, [1, 2, 3, 4]))"
   ]
  },
  {
   "cell_type": "code",
   "execution_count": 3,
   "metadata": {},
   "outputs": [
    {
     "name": "stdout",
     "output_type": "stream",
     "text": [
      "-8\n",
      "7\n"
     ]
    }
   ],
   "source": [
    "a = [-8, 2, 7, 5, -3, 5, 0, 1]\n",
    "print(min(a))\n",
    "print(max(a))"
   ]
  },
  {
   "cell_type": "markdown",
   "metadata": {},
   "source": [
    "## Q7"
   ]
  },
  {
   "cell_type": "code",
   "execution_count": 5,
   "metadata": {},
   "outputs": [
    {
     "data": {
      "text/plain": [
       "5.6667"
      ]
     },
     "execution_count": 5,
     "metadata": {},
     "output_type": "execute_result"
    }
   ],
   "source": [
    "round(17 / 3, 4)"
   ]
  },
  {
   "cell_type": "markdown",
   "metadata": {},
   "source": [
    "## Q8"
   ]
  },
  {
   "cell_type": "markdown",
   "metadata": {},
   "source": [
    "~~~\n",
    "# myargv.py\n",
    "\n",
    "import sys\n",
    "\n",
    "a = sys.argv\n",
    "result = 0\n",
    "for i in range(1, len(a)):\n",
    "    result += int(a[i])\n",
    "\n",
    "print(result)\n",
    "~~~"
   ]
  },
  {
   "cell_type": "code",
   "execution_count": 7,
   "metadata": {},
   "outputs": [
    {
     "name": "stdout",
     "output_type": "stream",
     "text": [
      "55\n"
     ]
    }
   ],
   "source": [
    "%run myargv.py 1 2 3 4 5 6 7 8 9 10"
   ]
  },
  {
   "cell_type": "markdown",
   "metadata": {},
   "source": [
    "## Q9"
   ]
  },
  {
   "cell_type": "code",
   "execution_count": 10,
   "metadata": {},
   "outputs": [
    {
     "name": "stdout",
     "output_type": "stream",
     "text": [
      " Volume in drive C is Windows 10\n",
      " Volume Serial Number is 661C-8665\n",
      "\n",
      " Directory of c:\\Program Files\n",
      "\n",
      "08/11/2019  02:42 PM    <DIR>          .\n",
      "08/11/2019  02:42 PM    <DIR>          ..\n",
      "10/31/2018  08:30 AM    <DIR>          3D systems\n",
      "02/12/2019  12:28 PM    <DIR>          7-Zip\n",
      "12/17/2018  10:43 AM    <DIR>          Adobe\n",
      "11/27/2018  08:07 PM    <DIR>          Application Verifier\n",
      "09/19/2018  03:43 PM    <DIR>          AVAST Software\n",
      "01/24/2019  12:59 AM    <DIR>          Basler\n",
      "09/28/2018  09:34 PM    <DIR>          Calibre2\n",
      "09/28/2018  08:54 PM    <DIR>          CMake\n",
      "06/08/2019  10:40 AM    <DIR>          Common Files\n",
      "06/08/2019  10:40 AM    <DIR>          CONEXANT\n",
      "01/21/2019  11:24 AM    <DIR>          D-PDU API\n",
      "03/19/2019  11:21 AM    <DIR>          DIFX\n",
      "08/11/2019  02:42 PM    <DIR>          DisplayLink Core Software\n",
      "10/27/2018  08:12 PM    <DIR>          dotnet\n",
      "07/09/2019  04:50 PM    <DIR>          Dotz Softwares\n",
      "06/08/2019  10:41 AM    <DIR>          Elantech\n",
      "09/28/2018  08:07 PM    <DIR>          Everything\n",
      "06/30/2019  08:09 PM    <DIR>          FreeCAD 0.18\n",
      "10/31/2018  08:30 AM    <DIR>          Geomagic\n",
      "09/28/2018  08:38 PM    <DIR>          Git\n",
      "09/27/2018  05:26 PM    <DIR>          Google\n",
      "09/28/2018  08:54 PM    <DIR>          grepWin\n",
      "06/08/2019  10:40 AM    <DIR>          IIS\n",
      "10/27/2018  08:12 PM    <DIR>          IIS Express\n",
      "07/15/2019  01:26 PM    <DIR>          INNORIX\n",
      "06/07/2019  06:06 PM    <DIR>          Intel\n",
      "07/10/2019  06:51 PM    <DIR>          Internet Explorer\n",
      "07/09/2019  04:56 PM    <DIR>          IrfanView\n",
      "07/21/2019  03:38 PM    <DIR>          Java\n",
      "07/20/2019  03:20 PM    <DIR>          Logitech\n",
      "11/03/2018  08:51 PM    <DIR>          McNeel\n",
      "06/08/2019  10:40 AM    <DIR>          Microsoft\n",
      "09/28/2018  05:30 PM    <DIR>          Microsoft DNX\n",
      "06/14/2018  07:42 PM    <DIR>          Microsoft Office\n",
      "10/27/2018  08:22 PM    <DIR>          Microsoft SDKs\n",
      "09/28/2018  05:39 PM    <DIR>          Microsoft SQL Server\n",
      "09/28/2018  05:33 PM    <DIR>          Microsoft SQL Server Compact Edition\n",
      "09/28/2018  05:23 PM    <DIR>          Microsoft Visual Studio 12.0\n",
      "08/17/2019  01:23 PM    <DIR>          Microsoft VS Code\n",
      "03/19/2019  01:52 PM    <DIR>          ModifiableWindowsApps\n",
      "06/07/2019  05:42 PM    <DIR>          MSBuild\n",
      "04/15/2019  08:23 PM    <DIR>          Notepad++\n",
      "09/29/2018  09:45 AM    <DIR>          PackageManagement\n",
      "06/30/2019  07:48 PM    <DIR>          ParaView 5.6.1-Windows-msvc2015-64bit\n",
      "01/28/2019  10:39 AM    <DIR>          PEAK-System\n",
      "09/28/2018  08:53 PM    <DIR>          Rapid Environment Editor\n",
      "06/07/2019  05:42 PM    <DIR>          Reference Assemblies\n",
      "11/03/2018  08:50 PM    <DIR>          Rhino 6\n",
      "03/12/2019  02:56 PM    <DIR>          TortoiseGit\n",
      "03/19/2019  09:30 AM    <DIR>          Ultimaker Cura 3.6\n",
      "05/07/2019  10:47 AM    <DIR>          Unity\n",
      "05/20/2019  08:43 AM    <DIR>          Unity Hub\n",
      "11/03/2018  06:52 PM    <DIR>          VCG\n",
      "10/27/2018  08:23 PM    <DIR>          VS2010Schemas\n",
      "10/27/2018  08:23 PM    <DIR>          VS2012Schemas\n",
      "06/08/2019  10:48 AM    <DIR>          Windows Defender\n",
      "08/19/2019  11:13 AM    <DIR>          Windows Defender Advanced Threat Protection\n",
      "03/19/2019  01:52 PM    <DIR>          Windows Mail\n",
      "06/07/2019  05:46 PM    <DIR>          Windows Media Player\n",
      "03/19/2019  03:23 PM    <DIR>          Windows Multimedia Platform\n",
      "03/19/2019  02:02 PM    <DIR>          Windows NT\n",
      "06/07/2019  05:46 PM    <DIR>          Windows Photo Viewer\n",
      "03/19/2019  03:23 PM    <DIR>          Windows Portable Devices\n",
      "03/19/2019  01:52 PM    <DIR>          Windows Security\n",
      "06/08/2019  10:40 AM    <DIR>          WindowsPowerShell\n",
      "               0 File(s)              0 bytes\n",
      "              67 Dir(s)  352,949,796,864 bytes free\n",
      "\n"
     ]
    }
   ],
   "source": [
    "import os\n",
    "\n",
    "cwd = os.getcwd()\n",
    "\n",
    "os.chdir(\"c:/Program Files\")\n",
    "f = os.popen(\"dir\")\n",
    "print(f.read())\n",
    "\n",
    "os.chdir(cwd)"
   ]
  },
  {
   "cell_type": "markdown",
   "metadata": {},
   "source": [
    "## Q11"
   ]
  },
  {
   "cell_type": "code",
   "execution_count": 12,
   "metadata": {},
   "outputs": [
    {
     "data": {
      "text/plain": [
       "['D:\\\\MyPractice\\\\coding_practice\\\\python\\\\study\\\\argv_test.py',\n",
       " 'D:\\\\MyPractice\\\\coding_practice\\\\python\\\\study\\\\mod1.py',\n",
       " 'D:\\\\MyPractice\\\\coding_practice\\\\python\\\\study\\\\mod2.py',\n",
       " 'D:\\\\MyPractice\\\\coding_practice\\\\python\\\\study\\\\mod3.py',\n",
       " 'D:\\\\MyPractice\\\\coding_practice\\\\python\\\\study\\\\mod4.py',\n",
       " 'D:\\\\MyPractice\\\\coding_practice\\\\python\\\\study\\\\mod4_import.py',\n",
       " 'D:\\\\MyPractice\\\\coding_practice\\\\python\\\\study\\\\myargv.py']"
      ]
     },
     "execution_count": 12,
     "metadata": {},
     "output_type": "execute_result"
    }
   ],
   "source": [
    "import glob\n",
    "import os\n",
    "\n",
    "py_filter = os.getcwd() + \"/*.py\"\n",
    "glob.glob(py_filter)"
   ]
  },
  {
   "cell_type": "markdown",
   "metadata": {},
   "source": [
    "## Q12"
   ]
  },
  {
   "cell_type": "code",
   "execution_count": 18,
   "metadata": {},
   "outputs": [
    {
     "name": "stdout",
     "output_type": "stream",
     "text": [
      "2019/08/22 22:41:38\n"
     ]
    }
   ],
   "source": [
    "import time\n",
    "\n",
    "lt = time.localtime(time.time())\n",
    "print(time.strftime(\"%Y/%m/%d %H:%M:%S\", lt))"
   ]
  },
  {
   "cell_type": "markdown",
   "metadata": {},
   "source": [
    "## Q13"
   ]
  },
  {
   "cell_type": "code",
   "execution_count": 21,
   "metadata": {},
   "outputs": [
    {
     "name": "stdout",
     "output_type": "stream",
     "text": [
      "{8, 10, 43, 11, 17, 30}\n"
     ]
    }
   ],
   "source": [
    "import random\n",
    "\n",
    "def gen_number6():\n",
    "    nums = set([])\n",
    "    while len(nums) < 6:\n",
    "        nums.add(random.randint(1, 45))\n",
    "    return nums\n",
    "\n",
    "print(gen_number6())"
   ]
  },
  {
   "cell_type": "code",
   "execution_count": null,
   "metadata": {},
   "outputs": [],
   "source": []
  }
 ],
 "metadata": {
  "kernelspec": {
   "display_name": "Python 3",
   "language": "python",
   "name": "python3"
  },
  "language_info": {
   "codemirror_mode": {
    "name": "ipython",
    "version": 3
   },
   "file_extension": ".py",
   "mimetype": "text/x-python",
   "name": "python",
   "nbconvert_exporter": "python",
   "pygments_lexer": "ipython3",
   "version": "3.7.3"
  }
 },
 "nbformat": 4,
 "nbformat_minor": 4
}
