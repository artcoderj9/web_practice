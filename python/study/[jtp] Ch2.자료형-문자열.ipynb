{
 "cells": [
  {
   "cell_type": "markdown",
   "metadata": {},
   "source": [
    "## 문자열이란\n",
    "\"Life is too short, You need Python\"  \n",
    "\"a\"  \n",
    "\"123\""
   ]
  },
  {
   "cell_type": "markdown",
   "metadata": {},
   "source": [
    "### 문자열 만들기"
   ]
  },
  {
   "cell_type": "code",
   "execution_count": 3,
   "metadata": {
    "scrolled": true
   },
   "outputs": [],
   "source": [
    "a = \"Hello World\"\n",
    "a = 'Python is fun'\n",
    "a = \"\"\"Life is too short, You need python\"\"\"\n",
    "a = '''Life is too short, You need python'''"
   ]
  },
  {
   "cell_type": "markdown",
   "metadata": {},
   "source": [
    "### 문자열 안에 작은따옴표 큰따옴표 포함시키기"
   ]
  },
  {
   "cell_type": "code",
   "execution_count": 10,
   "metadata": {},
   "outputs": [
    {
     "name": "stdout",
     "output_type": "stream",
     "text": [
      "Python's favorite food is perl\n"
     ]
    }
   ],
   "source": [
    "food = \"Python's favorite food is perl\"\n",
    "print(food)"
   ]
  },
  {
   "cell_type": "code",
   "execution_count": 11,
   "metadata": {},
   "outputs": [
    {
     "name": "stdout",
     "output_type": "stream",
     "text": [
      "\"Python is very easy.\" he says.\n"
     ]
    }
   ],
   "source": [
    "say = '\"Python is very easy.\" he says.'\n",
    "print(say)"
   ]
  },
  {
   "cell_type": "code",
   "execution_count": 7,
   "metadata": {},
   "outputs": [
    {
     "name": "stdout",
     "output_type": "stream",
     "text": [
      "Python's favorite food is perl\n",
      "\"Python is very easy.\" he says.\n"
     ]
    }
   ],
   "source": [
    "food = 'Python\\'s favorite food is perl'\n",
    "say = \"\\\"Python is very easy.\\\" he says.\"\n",
    "print(food)\n",
    "print(say)"
   ]
  },
  {
   "cell_type": "markdown",
   "metadata": {},
   "source": [
    "### 여러줄인 문자열"
   ]
  },
  {
   "cell_type": "code",
   "execution_count": 9,
   "metadata": {},
   "outputs": [
    {
     "name": "stdout",
     "output_type": "stream",
     "text": [
      "Life is too short\n",
      "You need python\n"
     ]
    }
   ],
   "source": [
    "multiline = \"Life is too short\\nYou need python\"\n",
    "print(multiline)"
   ]
  },
  {
   "cell_type": "code",
   "execution_count": 12,
   "metadata": {},
   "outputs": [
    {
     "name": "stdout",
     "output_type": "stream",
     "text": [
      "\n",
      "    Life is too short\n",
      "    You need python\n",
      "    \n"
     ]
    }
   ],
   "source": [
    "multiline='''\n",
    "    Life is too short\n",
    "    You need python\n",
    "    '''\n",
    "print(multiline)"
   ]
  },
  {
   "cell_type": "code",
   "execution_count": 13,
   "metadata": {},
   "outputs": [
    {
     "name": "stdout",
     "output_type": "stream",
     "text": [
      "\n",
      "    Life is too short\n",
      "    You need python\n",
      "    \n"
     ]
    }
   ],
   "source": [
    "multiline=\"\"\"\n",
    "    Life is too short\n",
    "    You need python\n",
    "    \"\"\"\n",
    "print(multiline)"
   ]
  },
  {
   "cell_type": "markdown",
   "metadata": {},
   "source": [
    "### 문자열 연산하기 (+,*)"
   ]
  },
  {
   "cell_type": "code",
   "execution_count": 14,
   "metadata": {},
   "outputs": [
    {
     "name": "stdout",
     "output_type": "stream",
     "text": [
      "python is fun!\n"
     ]
    }
   ],
   "source": [
    "# 더하기 (=연결하기)\n",
    "head = \"python\"\n",
    "tail = \" is fun!\"\n",
    "print(head + tail)"
   ]
  },
  {
   "cell_type": "code",
   "execution_count": 15,
   "metadata": {},
   "outputs": [
    {
     "name": "stdout",
     "output_type": "stream",
     "text": [
      "pythonpython\n"
     ]
    }
   ],
   "source": [
    "# 곱하기 \n",
    "a = \"python\"\n",
    "print(a * 2)"
   ]
  },
  {
   "cell_type": "markdown",
   "metadata": {},
   "source": [
    "### 문자열 길이구하기"
   ]
  },
  {
   "cell_type": "code",
   "execution_count": 16,
   "metadata": {},
   "outputs": [
    {
     "data": {
      "text/plain": [
       "17"
      ]
     },
     "execution_count": 16,
     "metadata": {},
     "output_type": "execute_result"
    }
   ],
   "source": [
    "a = \"Life is too short\"\n",
    "len(a)"
   ]
  },
  {
   "cell_type": "markdown",
   "metadata": {},
   "source": [
    "### 인덱싱, 슬라이싱"
   ]
  },
  {
   "cell_type": "code",
   "execution_count": 20,
   "metadata": {},
   "outputs": [
    {
     "name": "stdout",
     "output_type": "stream",
     "text": [
      "L\n",
      "e\n",
      "s\n",
      "n\n",
      "o\n",
      "y\n"
     ]
    }
   ],
   "source": [
    "# 인텍싱\n",
    "a = \"Life is too short, You need Python\"\n",
    "print(a[0])\n",
    "print(a[3])\n",
    "print(a[12])\n",
    "print(a[-1])\n",
    "print(a[-2])\n",
    "print(a[-5])"
   ]
  },
  {
   "cell_type": "code",
   "execution_count": 21,
   "metadata": {},
   "outputs": [
    {
     "name": "stdout",
     "output_type": "stream",
     "text": [
      "Life \n",
      "Li\n",
      "is\n",
      "short\n",
      "You need Python\n",
      "Life is too short, You need Python\n",
      "You need\n"
     ]
    }
   ],
   "source": [
    "# 슬라이싱\n",
    "a = \"Life is too short, You need Python\"\n",
    "print(a[0:5])\n",
    "print(a[0:2])\n",
    "print(a[5:7])\n",
    "print(a[12:17])\n",
    "print(a[19:])\n",
    "print(a[:])\n",
    "print(a[19:-7])"
   ]
  },
  {
   "cell_type": "markdown",
   "metadata": {},
   "source": [
    "### 슬라이싱으로 문자열 나누기"
   ]
  },
  {
   "cell_type": "code",
   "execution_count": 22,
   "metadata": {},
   "outputs": [
    {
     "name": "stdout",
     "output_type": "stream",
     "text": [
      "20010331\n",
      "Rainy\n"
     ]
    }
   ],
   "source": [
    "a = \"20010331Rainy\"\n",
    "date = a[:8]\n",
    "weather = a[8:]\n",
    "print(date)\n",
    "print(weather)"
   ]
  },
  {
   "cell_type": "code",
   "execution_count": 24,
   "metadata": {},
   "outputs": [
    {
     "name": "stdout",
     "output_type": "stream",
     "text": [
      "2001\n",
      "0331\n",
      "Rainy\n"
     ]
    }
   ],
   "source": [
    "a = \"20010331Rainy\"\n",
    "year = a[:4]\n",
    "day = a[4:8]\n",
    "weather = a[8:]\n",
    "print(year)\n",
    "print(day)\n",
    "print(weather)"
   ]
  },
  {
   "cell_type": "markdown",
   "metadata": {},
   "source": [
    "### 문자열 포맷팅"
   ]
  },
  {
   "cell_type": "code",
   "execution_count": 26,
   "metadata": {},
   "outputs": [
    {
     "name": "stdout",
     "output_type": "stream",
     "text": [
      "I eat 3 apples.\n"
     ]
    }
   ],
   "source": [
    "print(\"I eat %d apples.\" % 3)"
   ]
  },
  {
   "cell_type": "code",
   "execution_count": 27,
   "metadata": {},
   "outputs": [
    {
     "name": "stdout",
     "output_type": "stream",
     "text": [
      "I eat five apples.\n"
     ]
    }
   ],
   "source": [
    "print(\"I eat %s apples.\" % \"five\")"
   ]
  },
  {
   "cell_type": "code",
   "execution_count": 28,
   "metadata": {},
   "outputs": [
    {
     "name": "stdout",
     "output_type": "stream",
     "text": [
      "I eat 3 apples.\n"
     ]
    }
   ],
   "source": [
    "number = 3\n",
    "print(\"I eat %d apples.\" % number)"
   ]
  },
  {
   "cell_type": "code",
   "execution_count": 29,
   "metadata": {},
   "outputs": [
    {
     "name": "stdout",
     "output_type": "stream",
     "text": [
      "I ate 10 apples. so I was sick for three days.\n"
     ]
    }
   ],
   "source": [
    "number = 10\n",
    "day = \"three\"\n",
    "print(\"I ate %d apples. so I was sick for %s days.\" % (number, day))"
   ]
  },
  {
   "cell_type": "markdown",
   "metadata": {},
   "source": [
    "### 포맷코드와 숫자 함께 사용하기\n",
    "| 코드 | 설명 |\n",
    "| --- | --- |\n",
    "| %s  | 문자열 |\n",
    "| %c | 문자 1개 |\n",
    "| %d | 정수 |\n",
    "| %f | 부동소수 |\n",
    "| %o | 8진수 |\n",
    "| %x | 16진수 |\n",
    "| %% | Literal % |"
   ]
  },
  {
   "cell_type": "code",
   "execution_count": 36,
   "metadata": {},
   "outputs": [
    {
     "name": "stdout",
     "output_type": "stream",
     "text": [
      "        hi\n",
      "hi        jane.\n",
      "3.4213\n",
      "    3.4213\n"
     ]
    }
   ],
   "source": [
    "# 정렬과 공백\n",
    "print(\"%10s\" % \"hi\")\n",
    "print(\"%-10s jane.\" % \"hi\")\n",
    "\n",
    "# 소수점 표현하기\n",
    "print(\"%0.4f\" % 3.42134232)\n",
    "print(\"%10.4f\" % 3.42134232)"
   ]
  },
  {
   "cell_type": "code",
   "execution_count": null,
   "metadata": {},
   "outputs": [],
   "source": []
  }
 ],
 "metadata": {
  "kernelspec": {
   "display_name": "Python 3",
   "language": "python",
   "name": "python3"
  },
  "language_info": {
   "codemirror_mode": {
    "name": "ipython",
    "version": 3
   },
   "file_extension": ".py",
   "mimetype": "text/x-python",
   "name": "python",
   "nbconvert_exporter": "python",
   "pygments_lexer": "ipython3",
   "version": "3.7.3"
  }
 },
 "nbformat": 4,
 "nbformat_minor": 2
}
