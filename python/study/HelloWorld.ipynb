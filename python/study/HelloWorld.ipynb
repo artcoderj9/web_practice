{
  "nbformat": 4,
  "nbformat_minor": 0,
  "metadata": {
    "colab": {
      "name": "Untitled0.ipynb",
      "version": "0.3.2",
      "provenance": []
    },
    "kernelspec": {
      "name": "python3",
      "display_name": "Python 3"
    }
  },
  "cells": [
    {
      "cell_type": "markdown",
      "metadata": {
        "id": "65vsBfvL9fEs",
        "colab_type": "text"
      },
      "source": [
        "## **Hello World**\n",
        "This is an initial placeholder notebook."
      ]
    },
    {
      "cell_type": "code",
      "metadata": {
        "id": "wS0JIYcd2kmN",
        "colab_type": "code",
        "outputId": "7c1522d4-4555-4ff9-f285-78ad67168d9d",
        "colab": {
          "base_uri": "https://localhost:8080/",
          "height": 35
        }
      },
      "source": [
        "print(\"Helo World\")"
      ],
      "execution_count": 3,
      "outputs": [
        {
          "output_type": "stream",
          "text": [
            "Helo World\n"
          ],
          "name": "stdout"
        }
      ]
    }
  ]
}