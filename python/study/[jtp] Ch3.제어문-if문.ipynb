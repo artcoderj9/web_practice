{
 "cells": [
  {
   "cell_type": "markdown",
   "metadata": {},
   "source": [
    "## if문\n",
    "* if와 else를 사용한 조건문의 기본 구조\n",
    "~~~\n",
    "if 조건문:\n",
    "    수행할 문장1\n",
    "    수행할 문장2\n",
    "    ...\n",
    "else:\n",
    "    수행할 문장A\n",
    "    수행할 문장B\n",
    "    ...\n",
    "~~~\n",
    "* 들여쓰기\n",
    "~~~\n",
    "# 정상적인 들여쓰기\n",
    "if 조건문:\n",
    "    수행할 문장1\n",
    "    수행할 문장2\n",
    "    수행할 문장3\n",
    "~~~\n",
    "* 들여쓰기 오류\n",
    "~~~\n",
    "# 오류경우1\n",
    "if 조건문:\n",
    "    수행할 문장1\n",
    "수행할 문장2\n",
    "    수행할 문장3\n",
    "~~~\n",
    "~~~\n",
    "# 오류경우2\n",
    "if 조건문:\n",
    "    수행할 문장1\n",
    "    수행할 문장2\n",
    "        수행할 문장3\n",
    "~~~"
   ]
  },
  {
   "cell_type": "markdown",
   "metadata": {},
   "source": [
    "### 조건문\n",
    "* \"조건문\"이란 참과 거짓을 판단하는 문장"
   ]
  },
  {
   "cell_type": "markdown",
   "metadata": {},
   "source": [
    "#### 비교연산자\n",
    "|비교연산자|\n",
    "| :-:|\n",
    "|x < y |\n",
    "|x > y |\n",
    "|x == y |\n",
    "|x != y |\n",
    "|x >= y |\n",
    "|x <= y |"
   ]
  },
  {
   "cell_type": "code",
   "execution_count": 4,
   "metadata": {},
   "outputs": [
    {
     "name": "stdout",
     "output_type": "stream",
     "text": [
      "True\n",
      "False\n",
      "False\n",
      "True\n"
     ]
    }
   ],
   "source": [
    "x = 3\n",
    "y = 2\n",
    "print(x > y)\n",
    "print(x < y)\n",
    "print(x == y)\n",
    "print(x != y)"
   ]
  },
  {
   "cell_type": "code",
   "execution_count": 5,
   "metadata": {},
   "outputs": [
    {
     "name": "stdout",
     "output_type": "stream",
     "text": [
      "걸어가라\n"
     ]
    }
   ],
   "source": [
    "money = 2000\n",
    "if money >= 3000:\n",
    "    print(\"택시를 타고 가라\")\n",
    "else:\n",
    "    print(\"걸어가라\")"
   ]
  },
  {
   "cell_type": "markdown",
   "metadata": {},
   "source": [
    "#### and, or, not, x in s, x not in s\n",
    "|연산자|    |in | not in|\n",
    "| :-:|     |:-:|:-:|\n",
    "|x or y |   |x in list| x not in list|\n",
    "|x and y |  |x in tuple| x not in tuple|\n",
    "|not x |    |x in string| x not in string|"
   ]
  },
  {
   "cell_type": "code",
   "execution_count": 8,
   "metadata": {},
   "outputs": [
    {
     "name": "stdout",
     "output_type": "stream",
     "text": [
      "택시를 타고 가라\n"
     ]
    }
   ],
   "source": [
    "money = 2000\n",
    "card = True\n",
    "if money >= 3000 or card:\n",
    "    print(\"택시를 타고 가라\")\n",
    "else:\n",
    "    print(\"걸어가라\")"
   ]
  },
  {
   "cell_type": "code",
   "execution_count": 10,
   "metadata": {},
   "outputs": [
    {
     "name": "stdout",
     "output_type": "stream",
     "text": [
      "True\n",
      "False\n",
      "True\n",
      "True\n"
     ]
    }
   ],
   "source": [
    "print(1 in [1, 2, 3])\n",
    "print(1 not in [1, 2, 3])\n",
    "print('a' in ('a', 'b', 'c'))\n",
    "print('j' not in 'python')"
   ]
  },
  {
   "cell_type": "code",
   "execution_count": 11,
   "metadata": {},
   "outputs": [
    {
     "name": "stdout",
     "output_type": "stream",
     "text": [
      "Take a taxi\n"
     ]
    }
   ],
   "source": [
    "pocket = ['paper', 'cellphone', 'money']\n",
    "if 'money'in pocket:\n",
    "    print(\"Take a taxi\")\n",
    "else:\n",
    "    print(\"take a walk\")"
   ]
  },
  {
   "cell_type": "markdown",
   "metadata": {},
   "source": [
    "#### pass"
   ]
  },
  {
   "cell_type": "code",
   "execution_count": 12,
   "metadata": {},
   "outputs": [],
   "source": [
    "pocket = ['paper', 'cellphone', 'money']\n",
    "if 'money'in pocket:\n",
    "    pass\n",
    "else:\n",
    "    print(\"take a walk\")"
   ]
  },
  {
   "cell_type": "markdown",
   "metadata": {},
   "source": [
    "### elif\n",
    "~~~\n",
    "If <조건문>:\n",
    "    <수행할 문장1> \n",
    "    <수행할 문장2>\n",
    "    ...\n",
    "elif <조건문>:\n",
    "    <수행할 문장1>\n",
    "    <수행할 문장2>\n",
    "    ...\n",
    "elif <조건문>:\n",
    "    <수행할 문장1>\n",
    "    <수행할 문장2>\n",
    "    ...\n",
    "...\n",
    "else:\n",
    "   <수행할 문장1>\n",
    "   <수행할 문장2>\n",
    "   ... \n",
    "~~~"
   ]
  },
  {
   "cell_type": "code",
   "execution_count": 13,
   "metadata": {},
   "outputs": [
    {
     "name": "stdout",
     "output_type": "stream",
     "text": [
      "Take a taxi\n"
     ]
    }
   ],
   "source": [
    "pocket = ['paper', 'cellphone']\n",
    "card = True\n",
    "if 'money' in pocket:\n",
    "    print(\"Take a taxi\")\n",
    "elif card:\n",
    "    print(\"Take a taxi\")\n",
    "else:\n",
    "    print(\"Take a walk\")"
   ]
  },
  {
   "cell_type": "markdown",
   "metadata": {},
   "source": [
    "### 조건부 표현식\n",
    "~~~\n",
    "\"조건문이 참인 경우\" if \"조건문\" else \"조건문이 거짓인 경우\"\n",
    "~~~\n",
    "* cf) 3항연산자 - ? :"
   ]
  },
  {
   "cell_type": "code",
   "execution_count": 14,
   "metadata": {},
   "outputs": [
    {
     "name": "stdout",
     "output_type": "stream",
     "text": [
      "success\n"
     ]
    }
   ],
   "source": [
    "score = 100\n",
    "message = \"success\" if score >= 60 else \"failure\"\n",
    "print(message)"
   ]
  }
 ],
 "metadata": {
  "kernelspec": {
   "display_name": "Python 3",
   "language": "python",
   "name": "python3"
  },
  "language_info": {
   "codemirror_mode": {
    "name": "ipython",
    "version": 3
   },
   "file_extension": ".py",
   "mimetype": "text/x-python",
   "name": "python",
   "nbconvert_exporter": "python",
   "pygments_lexer": "ipython3",
   "version": "3.7.3"
  }
 },
 "nbformat": 4,
 "nbformat_minor": 2
}
