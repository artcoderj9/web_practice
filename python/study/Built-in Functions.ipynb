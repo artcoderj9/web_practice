{
 "cells": [
  {
   "cell_type": "markdown",
   "metadata": {},
   "source": [
    "## Built-in Functions (https://docs.python.org/3/library/functions.html)\n",
    "|   |   |   |   |   |   |   |   |   |   |\n",
    "|:------|:------|:------|:------|:------|:------|:------|:------|:------|:------|\n",
    "| abs | all | any | ascii | bin | bool | breakpoint | bytearray | bytes | callable |\n",
    "| chr | classmethod | compile | complex | delattr | dict | dir | divmod | enumerate | eval |\n",
    "| exec | filter | **float** | format | frozenset | getattr | globals | hasattr |  hash | help |\n",
    "| hex | id | imput | int | isinstance | issubclass | iter | len | list | locals | \n",
    "| map | max | memoryview | min | next | object | oct | open | ord | pow |\n",
    "| print | property | range | repr | reversed | round | set | setattr | slice | sorted | \n",
    "| staticmethod | str | sum | super | tuple | type | vars | zip | \\_\\_import\\_\\_|"
   ]
  },
  {
   "cell_type": "markdown",
   "metadata": {},
   "source": [
    "### decision\n",
    "* all(iterable)\n",
    "* any(iterable)\n",
    "\n",
    "### language help\n",
    "* callable(object) : Return True if the object appears callable. \n",
    "                    (instances are callable if their class has a __call__() method)\n",
    "* @classmethod : Transform a method into a class method.\n",
    "                   The @classmethod form is a function decorator\n",
    "* delattr(object, name) : Deletes the named attribute\n",
    "* dir([object])  : Return the list of names in the current local scope\n",
    "\n",
    "### math\n",
    "* abs(x)\n",
    "* divmod(a, b) : Return a pair of numbers consisting of their quotient and remainder\n",
    "\n",
    "### sequence, generator\n",
    "* enumerate(iterable, start=0) : Return an enumerate object \n",
    "* filter(function, iterable) : Construct an iterator from those elements of iterable for which function returns true\n",
    "\n",
    "### converstion\n",
    "* ascii(object) :  Return a string containing a printable representation of an object,\n",
    "* bin(x) : Convert an integer number to a binary string\n",
    "* bool([x]) : Return a Boolean value\n",
    "* bytearray([source[, encoding[, errors]]]) : Return a new array of bytes\n",
    "* bytes([source[, encoding[, errors]]]) : Return a new \"bytes\" object\n",
    "* chr(i) : Return the string representing a character whose Unicode code point is the integer i\n",
    "* complex([real[, imag]]) : Return a complex number with the value real + imag*1j\n",
    "* dict : Create a new dictionary\n",
    "* float([x]) : Return a floting point number\n",
    "\n",
    "### compile, debugging, run\n",
    "* breakpoint(\\*args, \\*\\*kws) : New in v3.7\n",
    "* compile(source, filename, mode, flags=0, dont_inherit=False, optimize=-1) : Compile the source into a code or AST object\n",
    "* eval(expression, globals=None, locals=None) : The argument is parsed and evaluated as a Python expression\n",
    "* exec(object[, globals[, locals]]) : Dynamic execution of Python code"
   ]
  },
  {
   "cell_type": "code",
   "execution_count": null,
   "metadata": {},
   "outputs": [],
   "source": []
  }
 ],
 "metadata": {
  "kernelspec": {
   "display_name": "Python 3",
   "language": "python",
   "name": "python3"
  },
  "language_info": {
   "codemirror_mode": {
    "name": "ipython",
    "version": 3
   },
   "file_extension": ".py",
   "mimetype": "text/x-python",
   "name": "python",
   "nbconvert_exporter": "python",
   "pygments_lexer": "ipython3",
   "version": "3.7.3"
  }
 },
 "nbformat": 4,
 "nbformat_minor": 4
}
