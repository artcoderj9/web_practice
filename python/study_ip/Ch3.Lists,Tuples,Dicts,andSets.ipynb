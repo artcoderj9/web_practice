{
 "cells": [
  {
   "cell_type": "markdown",
   "metadata": {},
   "source": [
    "# Lists, Tuples, Dictionaries, and Sets"
   ]
  },
  {
   "cell_type": "markdown",
   "metadata": {},
   "source": [
    "## Lists\n",
    "* mutable"
   ]
  },
  {
   "cell_type": "markdown",
   "metadata": {},
   "source": [
    "### Create with [] or list()"
   ]
  },
  {
   "cell_type": "code",
   "execution_count": 1,
   "metadata": {},
   "outputs": [
    {
     "name": "stdout",
     "output_type": "stream",
     "text": [
      "[]\n",
      "['Monday', 'Tuesday', 'Wednesday', 'Thursday', 'Friday']\n",
      "[]\n"
     ]
    }
   ],
   "source": [
    "empty_list = []\n",
    "weekdays = ['Monday', 'Tuesday', 'Wednesday', 'Thursday', 'Friday']\n",
    "another_empty_list = list()\n",
    "\n",
    "print(empty_list)\n",
    "print(weekdays)\n",
    "print(another_empty_list)"
   ]
  },
  {
   "cell_type": "markdown",
   "metadata": {},
   "source": [
    "### Convert Other Data Types to Lists with list()"
   ]
  },
  {
   "cell_type": "code",
   "execution_count": 4,
   "metadata": {},
   "outputs": [
    {
     "name": "stdout",
     "output_type": "stream",
     "text": [
      "['c', 'a', 't']\n",
      "['ready', 'fire', 'aim']\n"
     ]
    }
   ],
   "source": [
    "cvt_from_string = list('cat')\n",
    "print(cvt_from_string)\n",
    "\n",
    "a_tuple = ('ready', 'fire', 'aim')\n",
    "cvt_from_tuple = list(a_tuple)\n",
    "print(cvt_from_tuple)"
   ]
  },
  {
   "cell_type": "markdown",
   "metadata": {},
   "source": [
    "### split() strings make list"
   ]
  },
  {
   "cell_type": "code",
   "execution_count": 7,
   "metadata": {},
   "outputs": [
    {
     "name": "stdout",
     "output_type": "stream",
     "text": [
      "['1', '6', '1952']\n",
      "['a', 'b', '', 'c', 'd', '', 'e']\n",
      "['a/b', 'c/d', 'e']\n"
     ]
    }
   ],
   "source": [
    "birthday = \"1/6/1952\"\n",
    "cvt_using_split_0 = birthday.split(\"/\")\n",
    "print(cvt_using_split_0)\n",
    "\n",
    "splitme = 'a/b//c/d//e'\n",
    "cvt_using_split_1 = splitme.split(\"/\")\n",
    "cvt_using_split_2 = splitme.split(\"//\")\n",
    "print(cvt_using_split_1)\n",
    "print(cvt_using_split_2)"
   ]
  },
  {
   "cell_type": "code",
   "execution_count": null,
   "metadata": {},
   "outputs": [],
   "source": []
  }
 ],
 "metadata": {
  "kernelspec": {
   "display_name": "Python 3",
   "language": "python",
   "name": "python3"
  },
  "language_info": {
   "codemirror_mode": {
    "name": "ipython",
    "version": 3
   },
   "file_extension": ".py",
   "mimetype": "text/x-python",
   "name": "python",
   "nbconvert_exporter": "python",
   "pygments_lexer": "ipython3",
   "version": "3.7.3"
  }
 },
 "nbformat": 4,
 "nbformat_minor": 4
}
