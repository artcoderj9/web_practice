{
 "cells": [
  {
   "cell_type": "markdown",
   "metadata": {},
   "source": [
    "## 변수\n",
    "* 변수 이름 = 변수에 저장할 값"
   ]
  },
  {
   "cell_type": "code",
   "execution_count": 1,
   "metadata": {},
   "outputs": [
    {
     "data": {
      "text/plain": [
       "2555751269128"
      ]
     },
     "execution_count": 1,
     "metadata": {},
     "output_type": "execute_result"
    }
   ],
   "source": [
    "a = [1, 2, 3]\n",
    "id(a)"
   ]
  },
  {
   "cell_type": "markdown",
   "metadata": {},
   "source": [
    "### Reference"
   ]
  },
  {
   "cell_type": "code",
   "execution_count": 4,
   "metadata": {},
   "outputs": [
    {
     "name": "stdout",
     "output_type": "stream",
     "text": [
      "2555751269832\n",
      "2555751269832\n",
      "True\n",
      "[1, 4, 3]\n",
      "[1, 4, 3]\n"
     ]
    }
   ],
   "source": [
    "a = [1, 2, 3]\n",
    "b = a\n",
    "print(id(a))\n",
    "print(id(b))\n",
    "print(a is b)\n",
    "a[1] = 4\n",
    "print(a)\n",
    "print(b)"
   ]
  },
  {
   "cell_type": "markdown",
   "metadata": {},
   "source": [
    "### 복사"
   ]
  },
  {
   "cell_type": "code",
   "execution_count": 9,
   "metadata": {},
   "outputs": [
    {
     "name": "stdout",
     "output_type": "stream",
     "text": [
      "2555784315784 : [1, 4, 3]\n",
      "2555784317000 : [1, 2, 3]\n",
      "2555784179464 : [1, 4, 3]\n",
      "2555784178248 : [1, 2, 3]\n"
     ]
    }
   ],
   "source": [
    "# [:]\n",
    "a = [1, 2, 3]\n",
    "b = a[:]\n",
    "a[1] = 4\n",
    "print(str(id(a)) + \" : \" + str(a))\n",
    "print(str(id(b)) + \" : \" + str(b))\n",
    "\n",
    "# copy\n",
    "a = [1, 2, 3]\n",
    "b = a.copy()\n",
    "a[1] = 4\n",
    "print(str(id(a)) + \" : \" + str(a))\n",
    "print(str(id(b)) + \" : \" + str(b))"
   ]
  },
  {
   "cell_type": "markdown",
   "metadata": {},
   "source": [
    "### 변수 만들기"
   ]
  },
  {
   "cell_type": "code",
   "execution_count": 15,
   "metadata": {},
   "outputs": [
    {
     "name": "stdout",
     "output_type": "stream",
     "text": [
      "python\n",
      "life\n",
      "python\n",
      "life\n",
      "python\n",
      "life\n",
      "python\n",
      "python\n",
      "5\n",
      "3\n"
     ]
    }
   ],
   "source": [
    "# 튜플\n",
    "a, b = ('python', 'life')\n",
    "print(a)\n",
    "print(b)\n",
    "(a, b) = 'python', 'life'\n",
    "print(a)\n",
    "print(b)\n",
    "\n",
    "# 리스트\n",
    "[a, b] = ['python', 'life']\n",
    "print(a)\n",
    "print(b)\n",
    "\n",
    "# \n",
    "a = b = 'python'\n",
    "print(a)\n",
    "print(b)\n",
    "\n",
    "# 변수 바꾸기\n",
    "a = 3\n",
    "b = 5\n",
    "a, b = b, a\n",
    "print(a)\n",
    "print(b)"
   ]
  },
  {
   "cell_type": "code",
   "execution_count": null,
   "metadata": {},
   "outputs": [],
   "source": []
  }
 ],
 "metadata": {
  "kernelspec": {
   "display_name": "Python 3",
   "language": "python",
   "name": "python3"
  },
  "language_info": {
   "codemirror_mode": {
    "name": "ipython",
    "version": 3
   },
   "file_extension": ".py",
   "mimetype": "text/x-python",
   "name": "python",
   "nbconvert_exporter": "python",
   "pygments_lexer": "ipython3",
   "version": "3.7.3"
  }
 },
 "nbformat": 4,
 "nbformat_minor": 2
}
