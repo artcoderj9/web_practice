{
 "cells": [
  {
   "cell_type": "markdown",
   "metadata": {},
   "source": [
    "## Package\n",
    "* 파이썬 모듈을 계층적(디렉터리 구조)으로 관리"
   ]
  },
  {
   "cell_type": "markdown",
   "metadata": {},
   "source": [
    "### Example Package for Test\n",
    "~~~\n",
    "pkg_game/\n",
    "    __init__.py\n",
    "    sound/\n",
    "        __init__.py\n",
    "        echo.py  -  echo_test()\n",
    "        wave.py  -  wave_test()\n",
    "    graphic/\n",
    "        __init__.py\n",
    "        screen.py  -  screen_test()\n",
    "        render.py  -  render_test()\n",
    "    play/\n",
    "        __init__.py\n",
    "        run.py   -  run_test()\n",
    "        test.py  -  test_test()\n",
    "~~~"
   ]
  },
  {
   "cell_type": "markdown",
   "metadata": {},
   "source": [
    "### Call function in pkg_game"
   ]
  },
  {
   "cell_type": "code",
   "execution_count": 2,
   "metadata": {},
   "outputs": [
    {
     "name": "stdout",
     "output_type": "stream",
     "text": [
      "echo\n"
     ]
    }
   ],
   "source": [
    "import pkg_game.sound.echo\n",
    "pkg_game.sound.echo.echo_test()"
   ]
  },
  {
   "cell_type": "code",
   "execution_count": 4,
   "metadata": {},
   "outputs": [
    {
     "name": "stdout",
     "output_type": "stream",
     "text": [
      "echo\n"
     ]
    }
   ],
   "source": [
    "%reset -f\n",
    "\n",
    "from pkg_game.sound import echo\n",
    "echo.echo_test()"
   ]
  },
  {
   "cell_type": "code",
   "execution_count": 5,
   "metadata": {},
   "outputs": [
    {
     "name": "stdout",
     "output_type": "stream",
     "text": [
      "echo\n"
     ]
    }
   ],
   "source": [
    "%reset -f\n",
    "\n",
    "from pkg_game.sound.echo import echo_test\n",
    "echo_test()"
   ]
  },
  {
   "cell_type": "code",
   "execution_count": 14,
   "metadata": {},
   "outputs": [
    {
     "name": "stdout",
     "output_type": "stream",
     "text": [
      "echo\n"
     ]
    }
   ],
   "source": [
    "%reset -f\n",
    "\n",
    "import pkg_game  # <- game direcotry module \n",
    "                 #    or module defined in __init__.py (< 3.3)\n",
    "                 #    or module undder folder(>= 3.3)\n",
    "pkg_game.sound.echo.echo_test()"
   ]
  },
  {
   "cell_type": "code",
   "execution_count": 12,
   "metadata": {},
   "outputs": [
    {
     "ename": "ModuleNotFoundError",
     "evalue": "No module named 'pkg_game.sound.echo.echo_test'; 'pkg_game.sound.echo' is not a package",
     "output_type": "error",
     "traceback": [
      "\u001b[1;31m---------------------------------------------------------------------------\u001b[0m",
      "\u001b[1;31mModuleNotFoundError\u001b[0m                       Traceback (most recent call last)",
      "\u001b[1;32m<ipython-input-12-c5712e808bd8>\u001b[0m in \u001b[0;36m<module>\u001b[1;34m\u001b[0m\n\u001b[0;32m      1\u001b[0m \u001b[1;31m# last item should be module or package\u001b[0m\u001b[1;33m\u001b[0m\u001b[1;33m\u001b[0m\u001b[1;33m\u001b[0m\u001b[0m\n\u001b[1;32m----> 2\u001b[1;33m \u001b[1;32mimport\u001b[0m \u001b[0mpkg_game\u001b[0m\u001b[1;33m.\u001b[0m\u001b[0msound\u001b[0m\u001b[1;33m.\u001b[0m\u001b[0mecho\u001b[0m\u001b[1;33m.\u001b[0m\u001b[0mecho_test\u001b[0m\u001b[1;33m\u001b[0m\u001b[1;33m\u001b[0m\u001b[0m\n\u001b[0m",
      "\u001b[1;31mModuleNotFoundError\u001b[0m: No module named 'pkg_game.sound.echo.echo_test'; 'pkg_game.sound.echo' is not a package"
     ]
    }
   ],
   "source": [
    " # last item should be module or package\n",
    "import pkg_game.sound.echo.echo_test"
   ]
  },
  {
   "cell_type": "markdown",
   "metadata": {},
   "source": [
    "### \\_\\_init\\_\\_.py\n",
    "* \\_\\_init\\_\\_.py 파일은 해당 디렉터리가 패키지의 일부임을 알려주는 역할을 한다. \n",
    "* python3.3 버전부터는 \\_\\_init\\_\\_.py 파일이 없어도 패키지로 인식한다\n",
    "* 하위호환성을 위해 빈파일이라도 \\_\\_init\\_\\_.py을 만들도록 하자"
   ]
  },
  {
   "cell_type": "code",
   "execution_count": 15,
   "metadata": {},
   "outputs": [
    {
     "name": "stdout",
     "output_type": "stream",
     "text": [
      "echo\n"
     ]
    }
   ],
   "source": [
    "%reset -f\n",
    "\n",
    "from pkg_game.sound import *\n",
    "echo.echo_test()"
   ]
  },
  {
   "cell_type": "code",
   "execution_count": 19,
   "metadata": {},
   "outputs": [
    {
     "name": "stdout",
     "output_type": "stream",
     "text": [
      "echo\n"
     ]
    }
   ],
   "source": [
    "%reset -f\n",
    "\n",
    "from pkg_game.sound import *  # <- no problem (>= 3.3)\n",
    "                    # <- __init__.py __all__ = ['echo'] (< 3.3)\n",
    "                    # <- * : in case of module - it doesn't need __all__\n",
    "echo.echo_test()"
   ]
  },
  {
   "cell_type": "markdown",
   "metadata": {},
   "source": [
    "### relative package (sibling package)\n",
    "~~~\n",
    "# render.py\n",
    "# render.py in graphic dir can use echo.py module in sound dir\n",
    "\n",
    "# from pkg_game.sound.echo import echo_test # <- it's OK\n",
    "from ..sound.echo import echo_test # <- it's also OK\n",
    "def render_test():\n",
    "    print (\"render\")\n",
    "    echo_test()\n",
    "~~~\n",
    "* .. – 부모 디렉터리\n",
    "* . – 현재 디렉터리"
   ]
  },
  {
   "cell_type": "code",
   "execution_count": 23,
   "metadata": {},
   "outputs": [
    {
     "name": "stdout",
     "output_type": "stream",
     "text": [
      "render\n",
      "echo\n"
     ]
    }
   ],
   "source": [
    "%reset -f\n",
    "\n",
    "from pkg_game.graphic.render import render_test\n",
    "render_test()"
   ]
  }
 ],
 "metadata": {
  "kernelspec": {
   "display_name": "Python 3",
   "language": "python",
   "name": "python3"
  },
  "language_info": {
   "codemirror_mode": {
    "name": "ipython",
    "version": 3
   },
   "file_extension": ".py",
   "mimetype": "text/x-python",
   "name": "python",
   "nbconvert_exporter": "python",
   "pygments_lexer": "ipython3",
   "version": "3.7.3"
  }
 },
 "nbformat": 4,
 "nbformat_minor": 4
}
